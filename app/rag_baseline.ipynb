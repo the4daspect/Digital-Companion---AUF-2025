{
 "cells": [
  {
   "cell_type": "code",
   "execution_count": 79,
   "id": "202d8d39",
   "metadata": {},
   "outputs": [],
   "source": [
    "from langchain.text_splitter import RecursiveCharacterTextSplitter\n",
    "from langchain_community.document_loaders import PyPDFLoader\n",
    "from langchain_community.vectorstores import FAISS\n",
    "from langchain_community.embeddings import HuggingFaceEmbeddings\n",
    "\n",
    "import torch\n",
    "from transformers import AutoTokenizer, AutoModelForCausalLM, pipeline\n",
    "# from unsloth import FastLanguageModel\n",
    "from langchain_community.vectorstores import FAISS\n",
    "from langchain_community.embeddings import HuggingFaceEmbeddings\n",
    "from langchain.chat_models import init_chat_model\n",
    "from langchain import hub\n",
    "from typing_extensions import List, TypedDict, Optional\n",
    "from langgraph.graph import START, StateGraph\n",
    "from langchain_core.documents import Document\n",
    "\n",
    "import glob\n",
    "\n",
    "import pandas as pd"
   ]
  },
  {
   "cell_type": "code",
   "execution_count": 80,
   "id": "6790e261",
   "metadata": {},
   "outputs": [],
   "source": [
    "with open('api_key.txt', 'r') as file:\n",
    "    API_KEY = file.read().strip()"
   ]
  },
  {
   "cell_type": "markdown",
   "id": "6fe68088",
   "metadata": {},
   "source": [
    "# LOAD VECTOR DATA"
   ]
  },
  {
   "cell_type": "code",
   "execution_count": 84,
   "id": "b301320b",
   "metadata": {},
   "outputs": [],
   "source": [
    "model_name = \"sentence-transformers/all-MiniLM-L6-v2\"\n",
    "embeddings = HuggingFaceEmbeddings(model_name=model_name)\n",
    "\n",
    "vectorstore = FAISS.load_local(\n",
    "    \"faiss_index\",\n",
    "    embeddings,\n",
    "    allow_dangerous_deserialization=True\n",
    ")"
   ]
  },
  {
   "cell_type": "markdown",
   "id": "f85aafb0",
   "metadata": {},
   "source": [
    "# Fireworks AI"
   ]
  },
  {
   "cell_type": "code",
   "execution_count": 85,
   "id": "c086d0b0",
   "metadata": {},
   "outputs": [],
   "source": [
    "llm = init_chat_model(\n",
    "    \"accounts/fireworks/models/deepseek-v3\",\n",
    "    # \"accounts/fireworks/models/qwen3-30b-a3b-instruct-2507\", \n",
    "    # \"accounts/fireworks/models/gpt-oss-20b\",\n",
    "    # \"accounts/fireworks/models/gpt-oss-120b\",\n",
    "    model_provider=\"fireworks\", \n",
    "    api_key=API_KEY\n",
    ")\n",
    "\n",
    "# MODEL = \"gpt-oss-20b\"\n",
    "# MODEL = \"gpt-oss-120b\"\n",
    "# MODEL = \"qwen3-30b\"\n",
    "MODEL = \"deepseek-v3\"\n"
   ]
  },
  {
   "cell_type": "code",
   "execution_count": 86,
   "id": "212899bd",
   "metadata": {},
   "outputs": [
    {
     "name": "stderr",
     "output_type": "stream",
     "text": [
      "/Library/Frameworks/Python.framework/Versions/3.12/lib/python3.12/site-packages/langsmith/client.py:272: LangSmithMissingAPIKeyWarning: API key must be provided when using hosted LangSmith API\n",
      "  warnings.warn(\n"
     ]
    }
   ],
   "source": [
    "prompt = hub.pull(\"rlm/rag-prompt\")\n",
    "\n",
    "class State(TypedDict):\n",
    "    question: str\n",
    "    context: List[Document]\n",
    "    answer: str\n",
    "    \n",
    "    # generation & retrieval controls\n",
    "    max_tokens: Optional[int]\n",
    "    top_p: Optional[float]\n",
    "    top_k: Optional[int]\n",
    "    presence_penalty: Optional[float]\n",
    "    frequency_penalty: Optional[float]\n",
    "    temperature: Optional[float]\n",
    "\n",
    "def retrieve(state: State):\n",
    "    retrieved_docs = vectorstore.similarity_search(state[\"question\"])\n",
    "    \n",
    "    return {\"context\": retrieved_docs}\n",
    "\n",
    "def generate(state: State):\n",
    "    docs_content = \"\\n\\n\".join(doc.page_content for doc in state[\"context\"])\n",
    "    messages = prompt.invoke({\"question\": state[\"question\"], \"context\": docs_content})\n",
    "    response = llm.invoke(messages)\n",
    "\n",
    "    return {\"answer\": response.content}\n",
    "\n",
    "graph_builder = StateGraph(State).add_sequence([retrieve, generate])\n",
    "graph_builder.add_edge(START, \"retrieve\")\n",
    "graph = graph_builder.compile()"
   ]
  },
  {
   "cell_type": "code",
   "execution_count": 87,
   "id": "b85c017b",
   "metadata": {},
   "outputs": [],
   "source": [
    "instruction = \"You are an empathic chatbot designed to support young caregivers and young carers. You will be given a question by a patient. Answer the following question with help from the given context: \""
   ]
  },
  {
   "cell_type": "markdown",
   "id": "8b8d2aac",
   "metadata": {},
   "source": [
    "# generate answers"
   ]
  },
  {
   "cell_type": "code",
   "execution_count": 88,
   "id": "0a7594cd",
   "metadata": {},
   "outputs": [
    {
     "data": {
      "application/vnd.microsoft.datawrangler.viewer.v0+json": {
       "columns": [
        {
         "name": "index",
         "rawType": "int64",
         "type": "integer"
        },
        {
         "name": "Context",
         "rawType": "object",
         "type": "string"
        },
        {
         "name": "Response",
         "rawType": "object",
         "type": "string"
        },
        {
         "name": "Answer",
         "rawType": "object",
         "type": "unknown"
        }
       ],
       "ref": "9047f607-a797-4ba7-bfc4-d929c94cb7b2",
       "rows": [
        [
         "0",
         "We weren't long distance until he joined the military.  I love him and I know he loves, me but it's complicated. He said he's not going to find someone else, but I'm afraid. How do I keep our relationship going?",
         "You're wise to be aware of possible changes to your relationship once your bf is away from you for extended time periods.All you both can do is state your intentions and wishes, keep in contact as much as possible, and wait to see how your relationship unfolds.To a large degree, each of you is relying on faith that if the relationship is meant to last for a while, then it will.   The military may add stress.This doesn't necessarily mean the stress will dissolve the relationship.Sometimes all anyone is able to do, is try.",
         null
        ],
        [
         "1",
         "I have no real friends. I have a girlfriend who irritates me but loves me to death. I push her away and pushes me away. We’re going through a breakup, and I have nobody.",
         "Having time all to yourself may be necessary so you have time to reflect on your own identity and values, become more clear on what matters most to you, and with this increased self-understanding, be able to attract people who will feel like satisfying friends.Having a relationship with someone whom you push away and are pushed away, with someone who is irritating, seems to have limited benefit for each of you.Maybe you are together from fear of being alone, and being alone is exactly what you may now need in your life in order to draw more favorable people to you.",
         null
        ],
        [
         "2",
         "I feel like my time is going too fast",
         "Thank you for reaching out! That is a great question! As an American, I can truly say that I spend way too much time on the go! It is a proven fact that Americans live in a fast paced environment compared to Europe! I often ask myself, what if I only had one day left on this Earth? What would I do? Well, that is an easy question. I would spend it with my family! Easier said than done when we are living in a tomorrow kind of World, right? Its hard to focus on the now when we are so consumed in what tomorrow shall bring.Time management is a very important factor when learning to \"live life to the fullest\"! In fact, this is a required course in undergraduate college now. Everyone manages their time differently and it is up to you to decide how you would like to do this. Personally, for myself I like to keep a calendar with a to-do list. I always place my most important tasks at the top of the list. That way, if I do not get through the list, I am not stressing over the little things. When planning your day, it is important you schedule work, eat and play. A much as it is hard not to work after getting off work, it must be done. There is discipline involved in this process. If you have trouble with this, then maybe seeking out some accountability such as including a coworker to make sure you do not bring work home once your shift is over or your spouse/partner reminding you that this is a time for play and not work.These are just some ideas that I am throwing out there. Again, everyone has their own style on time management. I hope this was helpful for you. Please don't hesitate to reach out for anything further!",
         null
        ],
        [
         "3",
         "He wants to wear makeup and heels. He even tucks his penis away to resemble a vagina. He wants me to wear a strap on and have anal sex with him. I have tried this for him, but I don’t like it and have told him so. He keeps making comments about it and says he can't live without it.",
         "It sounds like you may be asking two different questions.With regard to what you said about your husband dressing as a female in your bedroom, I wonder if you would consider asking him more about this. If you choose to do that, I would suggest that you ask him whether a certain time is a good time to have a conversation and asking questions for five minutes or more that are related to you learning more about his experience. This can be difficult to do at times, particularly when you may want to offer your own opinions or become very anxious or of type. Consider thinking of a phrase that may help you to stay calm during the discussion. It may be helpful to think of yourself as asking questions as if you were an investigative reporter and using questions that start with words like \"what, how, who, where, when.\" Questions that start with \"why,\" can be very difficult to answer for some people and can be overwhelming because it often links to answers involving emotions that may or may not be understood. Also try restating what your husband is saying to make sure that you are understanding correctly. If what he is telling you is different than what you have heard or thought of for many years, it may be challenging to follow his meaning initially. Remember that listening to your husband does not imply agreement with what he is saying, just that you are following and looking to understand what he is experiencing. I also recommend sticking to one topic for the conversation, but this could be done with many different topics over time.You could also see if he would be willing to have a discussion where he listens like an investigative reporter to learn more about the experience that you are having.As far as what you mentioned about the sexual experience, maybe if you can discuss what it is that you don't like and/or understand what it is that he does like, you could see if there is some middle ground here. It depends on what you both prefer.These types of conversations can be difficult to have for some couples, at least initially. Having structured conversations, such as the ones I've described briefly above, can feel awkward initially, but the reason it can be helpful is because it can lead to further understanding in a way that decreases the chances of having an argument.Also consider seeing a therapist in your area who specializes in couples to discuss some of these ideas.",
         null
        ],
        [
         "4",
         "I am a really shy person. I'm currently in a graduate program which requires lots of presentations, but they always make me feel stressed out and less confident. How can I get more confident?",
         "First of all, way to go in stretching yourself out of your comfort zone! You are sure to grow through all of this practice presenting to your peers, and that in itself will help to grow your confidence over time. In the meantime, do whatever you can to help yourself feel prepared for each presentation. Do your work ahead of time so that you feel well-informed on your topic, and then spend the days leading up to your presentation practicing. Do your presentation in the mirror, while you are driving (if it won't distract you from the road), and practice in front of a friend. On the day of the presentation, eat a balanced meal, get a pep talk from a supportive friend, use deep breathing to keep your body calm, and remind yourself that you are prepared. You got this!",
         null
        ],
        [
         "5",
         "I'm planning to have baby, so I have to quit smoking - but it's hard. Sometimes it's not a physical need, it's mental.\n   I cannot help myself from thinking about smoking. What can I do to get rid of this addiction?",
         "It is very good news that you realize the risks of smoking cigarettes while pregnant and are willing to stop.Thinking about smoking is a typical and frequent reaction to being without the substance.Be creative with what you know about yourself to distract you when this psychological urge comes up.  My suggestions are to imagine smoking if you find this would relieve the sense of wanting to smoke.Or, do the opposite and remind yourself of all the good reasons to not smoke.Also, since you're planning pregnancy then ask your partner for ideas on how to make the psychological feeling to want to smoke, feel less intense.Another suggestion is that your partner is your texting buddy to stop smoking.   With AA groups, a sponsor is always available for the alcoholic who feels distress about the urge to drink.   Having a trusted and caring person to tell about your problem helps in many situations.  Maybe it will help you to stop smoking.Good luck!",
         null
        ],
        [
         "6",
         "I found the guy I’m dating on dating websites. He was telling women that they were beautiful. He said it wasn’t him and that the phone was hacked. It has since happened two other times. He says he loves me and I’m the only girl he wants to be with, but I feel he is not telling me the truth.",
         "I would suggest possibly talking about the type of relationship that both of you want to create. For example, you may want a relationship where honesty, listening, compassion, and romanticism are major parts. You could also see what your boyfriend wants.You may also consider taking five minutes to see if he will listen to your feelings about him being on the dating site and whether he can work to learn more about what you are experiencing with asking open-ended questions (not being answered with yes or no) and restating what you are saying to see if he has it right. After that, perhaps you could switch so that you can listen to his perspective for five minutes and learn more about what he is doing by asking open-ended questions.Remember that it takes two people to have  a relationship, so the choice is yours as to whether you choose to stay in the relationship and what kind of relationship you would like to have.",
         null
        ],
        [
         "7",
         "After I told them, they yelled at me.",
         "It's most important that you accept yourself and surround yourself with a group of friends who are kind to you and love you. Family hearing news of any kind for the first time if they are an anxious type of character, will always be tough to digest. Time is important to let it all settle in and also making sure you're taking good care of yourself... I think you're brave and I give you a lot of credit for not denying who you are -- you will inspire so many people to do the same in your life. Wishing you all the best. Gina",
         null
        ],
        [
         "8",
         "I’ve been on 0.5 mg of Xanax twice a day for the past month. It hasn't been helping me at all, but when I take 1 mg during a big anxiety attack, it calms me down. I was wondering how I can ask my psychologist to up the dose to 1 mg twice a day without her thinking I'm abusing them. I just have very big anxiety attacks. Should I stay on the 0.5mg and deal with the attacks or should I ask to up the dose? I'm afraid she will take me off them and put me on something else.",
         "Do you think you're abusing xanax?It is a highly addictive drug so maybe one reason you feel compelled to take more is bc you already are addicted.Drugs don't do anything helpful in solving life's problems.   Once the effect wears off, the stressful situation is once again waiting for you to address it.Think over your reason for not directly asking your psychologist about upping your dose.Also, do you ever talk about your life problems with this psychologist or only your need for drugs?    The more gradual path to a better life is to not need drugs in the first place. This consists of your willingness to face the matters that are creating such terrible feelings inside you.",
         null
        ],
        [
         "9",
         "We've been dating for two months now. I have a heavy past that gets him angry. Does he have a right to penalize me for things I did before I met him?",
         "How is he penalizing you?Have you asked for his reasons for wanting to know about your heavy past?His answers may be very different than that he would like penalizing you.What you can do is explain how pressured you feel by his questions.Ideally, the two of you will become much closer by talking openly about your respective discomforts and wishes from the other.",
         null
        ],
        [
         "10",
         "Every winter I find myself getting sad because of the weather.  How can I fight this?",
         "Sometimes its quite literally the lack of sunshine that can affect our mood - in these cases it can be worth experimenting with a sun lamp, to boost your dose of vitamin D, when the sun isn't naturally out. Also consider, what is it that the change in weather, changes in your life? If for example, when its sunny you are an outdoorsy, active person and when the weather changes, you're whole activity level changes along with it, you could explore how to get some of that activity replicated indoors in the winter months.",
         null
        ],
        [
         "11",
         "I'm planning to have baby, so I have to quit smoking - but it's hard. Sometimes it's not a physical need, it's mental.\n\nI cannot help myself from thinking about smoking. What can I do to get rid of this addiction?",
         "Hi. Good for you in planning ahead to do what's healthiest for your baby (and yourself). That's a great first step! It's also good that you are able to identify that it's not always a physical need that's driving the addiction.For the next steps, I would suggest trying to figure out when the psychological cravings for a cigarette occur. The psychological (or mental) cravings are usually based out of habit, such as having a cigarette after a meal. And if you're consciously trying to quit, you'll find the craving starts with simply thinking about having a cigarette, then usually moves on to thinking about how good it made you feel, etc., etc. Well, if I'm on a diet and I continue to let myself think about the ice cream sitting in the freezer, eventually I'll give in and eat it.You're going to have thoughts about smoking a cigarette. That's normal and, for the most part, out of your control. But you choose whether or not to CONTINUE thinking and dwelling about it after that initial thought. That's what you would have to work on changing. When you have that initial thought, acknowledge it (\"Ok, I kind of want a cigarette now.\"), but then change the thoughts that typically follow. Distract yourself, think about something else, do something else, whatever it takes to get your mind off of that cigarette.I've suggested to clients before that they should plan these scenarios out ahead of time so they already know what they're going to do when the time comes. Write down when you usually have the craving for a cigarette and then write down new thoughts or things to do to get your mind off of it. Eventually, it will become easier and easier to brush off that initial thought until you no longer have it.Best of luck, and you have a really great motivator to quit - your baby!",
         null
        ],
        [
         "12",
         "I'm transgender, I know I am, but I've only told a few friends. I know I can't tell my family because of previous conversations we've had. They just wouldn't accept it.\nMy gender dysphoria is getting really difficult to deal with on my own. I need some strategies for dealing with it. What should I do?",
         "Hello, and thank you for your question. I am so glad that you reached out for help. I know that the dysphoria can feel nearly impossible to handle, especially since you have limited support from people who accept who you are. You may already know some of these resources, but I am going to share a few. 1. The website www.letsqueerthingsup.com is a blog from a very good writer that I know. His name is Sam Dylan Finch, and he is transgender. He writes about mental health, transgender issues, and many other topics. I know he has frequently written about gender dysphoria and ways to manage it. You may want to check out his site and do a search on there. 2. The website www.everydayfeminism.com employs many transgender writers and several have written about gender dysphoria and have given ideas for managing it. If you search for gender dysphoria on their site, many articles pop up. It may be a good resource for you, especially if you ever feel lonely and start to forget that there are others out there who are like you and have your back. 3. I am not sure where you live, but there are counselors who specialize in affirmative therapy, which is what is recommended for folks who are part of the LGBTQ community. So, if you decide to see a counselor about the dysphoria, try to find one that specifically says they have been trained in the affirmative approach. In addition, feel free to ask questions of the counselor before agreeing to see them for counseling. An ethical counselor would have no problem answering them before having you come in. 4. If there are some LGBTQ resource centers in your area, try to reach out to them and see if there are support groups. Gaining more support from others would be helpful. Sometimes LGBTQ-friendly counselors leave their contact information for people in resource centers. 5. Finally, I know you have not mentioned being depressed or suicidal, but I also know that it is very common for people to consider suicide when they are struggling with dysphoria, dealing with transphobia, etc. If this ever happens to you, please call 911 or the Trans Lifeline. It's free at 877-565-8860. Visit their site at www.translifeline.org. I hope some of these ideas help. Feel free to send another message if you have a follow-up question.Be well....be YOU.Robin J. Landwehr, DBH, LPC, NCC ",
         null
        ],
        [
         "13",
         "Whenever I leave my girlfriend I get panic attacks. I'm taking medications to control them, but I'm thinking of moving in with her since I get so anxious.",
         "I’m sorry to hear that you are currently experiencing panic attacks. I hope that the medication you have been prescribed has provided you with some relief. Unfortunately, I don’t feel that moving in with your girlfriend would alleviate your anxiety. Although you may feel very anxious about leaving her, your body is reacting to this stressful event in your life in an unhealthy manner. You may be able to render this particular situation but it’s likely that you may experience another panic attack when an additional stressful event arises. Therefore, it is essential that you address the reason for why you are experiencing panic attacks in the first place followed by practicing coping mechanisms in the case that one would arise in the future.Talk therapy has shown to be effective with those affected by anxiety along with breathing exercises and yoga. A trained therapist will be able to assist you in finding the right stress reducing method so that you can reduce the chance of another attack occurring.I wish you the best of luck! It sounds like you are very happy in your relationship and I hope you are able to reduce your anxiety so that you are able to enjoy one another.",
         null
        ],
        [
         "14",
         "I know I need to deal with my depression. But I don't know how and I don't want to tell anyone.    How can I deal with depression without telling anyone?",
         "Hello,It is completely understandable that you would not want people to know about your depression. I would first like commend you for realizing that you need to help with your depression by reaching out here. That is a great start, and you've taken the very first courageous step. Depression can feel debilitating and overwhelming. Depression is also a very personal thing and no one has know but you and the therapist. The best way to begin learningand dealing is to pick up the phone and call a therapist or email a therapist and schedule a session. The great news is that with professional help you can feel better and you will learn how deal with and manage the depression. There are many ways to help with depression that a therapist can teach you and help guide. You do not have do this alone. Asking for help and going to therapy is a strength! This can be done in a private and confidential setting.Depression should be treated by a therapist, in a safe, confidential office setting. The therapist can then discuss your depression with you in more detail to figure out the underlying cause, how long you've been feeling this way and identify what brings on these feelings. There is hope and depression can be treated with great success, you CAN feel good again. Depression can be managed appropriately by seeing a licensed therapist. Often times therapy will offer relief because you would have someone there simply to listen to you, validate your feelings and listen to your story. The therapist will be able to offer professional insight and perspective on the situation and help you think outside the box. The therapist can do many things with you, provide insight and offer many ideas to help you learn new coping skills and ideas of things you enjoy, encouraging you to re engage in hobbies you once enjoyed or even discover new things you may enjoy. There are creative ways to learn to cope too!Your therapist will also be there to support you, without judgement, at your pace, through the entire process. But the first step is finding a therapist and beginning to identify the cause your depression. Healing is possible and getting your happiness back is also possible.Feel free contact me for additional help or informationLaura Cassity, LMSW, LMAC",
         null
        ],
        [
         "15",
         "I've never been able to talk with my parents. My parents are in their sixties while I am a teenager. I love both of them but not their personalities. I feel that they do not take me seriously whenever I talk about a serious event in my life. If my dad doesn’t believe me, then my mom goes along with my dad and acts like she doesn’t believe me either. I’m a pansexual, but I can’t trust my own parents.\nI've fought depression and won; however, stress and anxiety are killing me. I feel that my friends don't listen to me. I know they have their own problems, which I do my best to help with. But they don't always try to help me with mine, when I really need them. I feel as if my childhood has been taken from me. I feel as if I have no one whom I can trust.",
         "One of the most difficult challenges we face is not being heard! It is incredibly frustrating and hurtful when others, especially parents, do not listen. While your parents surely love you and want to understand you, it may be difficult for them to fully understand your feelings and experiences. They are quite a bit older and have likely not dealt with some of the struggles that you face. I would suggest communicating your feelings to them about not being heard. Talk to them during a non-emotional moment when the discussion is not already heated. In other words, do not wait until an argument ensues to have an open discussion with them about how you are feeling. Prepare them by asking them what time is good for them to talk. Let them know you have something important to get off your chest. Try and avoid using exaggerated or extreme language such as \"you NEVER listen,\" \"you ALWAYS say...\" and stray away from placing blame. Instead of beginning your statements with \"you\" try using \"I\" by letting them know how their behavior effects you. Finally, let them know that they are important to you and that having their trust and support would mean a lot to you. Perhaps giving them suggestions as to what you wish for and would like to see change would help them to better understand.I would also suggest that you seek guidance from a therapist, teacher, or school counselor if possible. Most schools have counseling resources on sight in which a trained professional is available to talk with students looking for help.Best of luck to you.",
         null
        ],
        [
         "16",
         "My fiancé and I come from a strong Christian background but both went off the \"straight and narrow\" once before. He is having a hard time accepting my past, especially that I'm not a virgin. He has a hard time in general accepting himself and others.    His insecurities are hurting our relationship. How can I help him let go of my past and decide to live in the present?",
         "You might ask your fiance about people who have let him down in the past; past hurts from parents, friends, people he has dated. If you are speaking about jealousy he may come from a divorced parent upbringing, may have seen parents cheat on one or the other, may have had partners cheat on him in the past.  He may have fears that you may go off the \"straight and narrow\" once you get married. Listen to any concerns with patience and understanding, avoid being defensive. I would highly encourage pre-marital counseling to explore these things and individual counseling for himself to work on fears and anxieties. If he refuses and things do not improve I would consider postponing the wedding, things will not get better once you get married, only magnified.  Finally show him Bible passages about forgiveness and worry and leaning on God with faith and hope for the future.    God bless.",
         null
        ],
        [
         "17",
         "My fiancé and I broke up. He cheated on me numerous times. I kept forgiving but questioning his every move. He got tired and left.",
         "Cheating on you shows a lack of commitment, in addition to the emotional hurt it creates.Probably you didn't actually forgive him because if you did, then you wouldn't have been asking questions of his every move.Maybe you were open to forgiving him.   In order for forgiveness to be effective, the person who has done the injuring must first show some understanding and empathy for the great pain the person caused in you.From what you write, your fiancé didn't seem to have much interest in earning back your trust or in empathizing with the way his cheating effected you.It is very likely his tiredness is also tiredness you feel, of having to watch him all the time.As uncomfortable as adjusting with the disappointment of him leaving you, the situation you describe sounds like it was unsatisfying for both of you.",
         null
        ],
        [
         "18",
         "My girlfriend and I have broken up and gotten back together numerous times in the past two years. We recently just broke up again last night on New Year’s Eve. When we break up, the very next day, she calls me and acts as if nothing has happened. She acts like everything is alright. This has been going on for two years. I do love her and care about her and her children a lot, but she seems really demanding as far as what she deserves from a man. She is always telling me that she deserves this and that from a man. It makes me feel like crap because I cannot give her everything that she wants. She told me one time that she wants a man who is going to be afraid to lose her. Is that a normal thing that women want, or should I just move on already? I am in my 30s and she is in her 40s.",
         "Love is not enough to keep a relationship together.The people need to get along happily too.Let's start with knowing more about your happiness in being with your partner.The frequent break ups happen for a reason.  Try understanding more of why you go back together again.You state a few very clear reasons to not continue this relationship, such as \"feeling like crap\" and not liking that your girlfriend hopes her  partner will feel afraid to leave her.Trust your intuition telling you that these feelings matter.Sometimes men aren't sure whether following their instinct is a right action to take.It is.Also, hoping a partner will fear losing them, shows a wish to control a person.Control has nothing to do with love and trust, and these are basics of a relationship.Good luck!",
         null
        ],
        [
         "19",
         "My coworkers are making false statements about me to the boss, saying I have mood swings. They have no proof to back it up. Can my employer make me see a therapist of their choice?",
         "If this is a concern of a few coworkers, make sure it is not something they see but you don't admit to.  Employers can \"suggest\" or something \"stipulate\" in continued employment with them  for you to go to their Employment Assistance Provider (EAP) if they have noticed the same behavior and concerned of how it is effecting productivity or employee relationships.  No one wants to work in a environment which they consider hostile.  Employers can be held responsible if they do not take action.Couple of things you can do...Ask a coworker in which you trust and respect if what others are saying is true?Seek professional help from your primary care provider or counselor if mood swings do exist.      ",
         null
        ],
        [
         "20",
         "My ex-boyfriend and I have been back and forth for over a year now. He's in his late 20s, divorced for like five years now with two kids. He has a lot of narcissistic behaviors. He lies and cheats, but I love him. I've tried to date other people, but I always go back to him.",
         "There are a lot of pieces to the decision of whether to stay or leave. Can you have open conversations about your concerns? Is he able to listen to that? I'm not sure how you know for sure that he lies and cheats, but does he recognize these things as problems? Which part of you is bigger: the part of you that wants to stay or the part of you that wants to leave? Can you consider what you want, wish for, and desire while also considering the same for him? Can he do that for you?",
         null
        ],
        [
         "21",
         "Whenever I don't tell my friends or anyone what I did or stuff that's not really important, I feel terrible, like there’s a hole in my stomach. It only goes away when I hurt myself.",
         "Hi Kansas, I feel strongly that the help of a professional therapist is important here. Feelings are never wrong, but it can help to understand where they come from and talk to someone who can teach you healthy ways to cope. Self-harm is not the answer to managing those emotions you feel in your stomach. Although I'm glad you said something here, a professional would need to spend some time with you and get a deep understanding of your life in order to help you sort all these reactions out effectively. I hope you reach out to someone soon. ",
         null
        ],
        [
         "22",
         "My husband has had issues with alcohol addiction in the past (he'd never admit to this). A while back (3 years ago), I asked him to stop drinking so much, and he agreed. I caught him one night drinking behind my back. I confronted him and he lied, but I told him I knew he was lying because I counted the beers in the fridge and four of them were missing. He admitted and apologized and promised he wouldn't do it again. Lately, my husband has been drinking on and off, but I noticed it was every single night. I didn't like this. For our New Year’s resolution, we decided we were going to limit our alcohol consumption. He was on board—no more drinking every night.\n The other night, I counted the beers in the fridge just to see if some were missing. It took a couple of days, but tonight, I discovered a few were missing along with a shot of vodka. He was passed out on the couch when I decided to wake him up and confront him (poor timing, but I couldn't wait). I asked him if he'd come to bed with me (when he drinks, he snores and I cannot sleep—it's a dead giveaway he's been drinking). He slurred a bit and said no. I asked if he had been drinking, but he snapped and said no. I went into our room to sleep, leaving him on the couch.  I'm not sure if I'm overreacting or not. I just feel like I'm so honest with him about everything, and I expect the same honesty. He is a good husband in every other regard.",
         "As exasperated as you feel, and as obvious it is to you that your husband cares more about drinking than being honest with you, changing this is up to him.Does he care that you're upset with him for drinking more than he can handle?Does he care about you more than drinking?Living with an alcoholic, which is how his behavior sounds, is lonely and frustrating.Concentrate on what you like about him as he is now with his drinking.Your happiness matters.  His ignoring of what you're talking about, doesn't mean your requests are unreasonable.Be prepared to learn to live with and accept how he behaves, or not.Avoid the expectation that you can convince him to change.People change only when they realize their life can improve by changing.  He doesn't sound like this, at least now.",
         null
        ],
        [
         "23",
         "I have this weird fetish that I'm afraid to open up about it. What should I do?",
         "This is difficult to answer because you don’t tell us what the fetish is.  I do understand that this is something that is bothering you though. The first thing to ask yourself is if this is something that is illegal or not.  If this is illegal to engage in, then you need to seek counseling help immediately to control the urges.However, if your fetish is not something illegal and you just feel that it is something odd, a therapist could still help you deal with these feelings.  You may find that it is something very common and not something to be ashamed of.  You may find other people have the same interest as you.  Find a therapist that you can trust and tell them.  Don’t hold back with your therapist.  Trust me, they have heard and seen it all by now, and they can help you either stop the behavior that is causing you distress, or help you come to terms with accepting the behavior as part of who you are.  There is no need to suffer with this alone. ",
         null
        ],
        [
         "24",
         "I'm 15 and my girlfriend is 14. Am I a pedophile because I'm attracted to her and she's under 18?",
         "No. You are not a pedophile. You are both under the appropriate age where it would be seen so. Your both only a year a part so this shouldn't a worry to you. Like Frank said below, Pedophelia is a problem that won't apply to this situation.",
         null
        ],
        [
         "25",
         "I have been feeling more and more down for over a month. I have started having trouble sleeping due to panic attacks, but they are almost never triggered by something that I know of.",
         "Answers about our inner lives are most successfully reached from a sense of feeling grounded in oneself.First step is to accept your nervousness and restless sleep.  As often as possible, sleep during daytimes in order for your body to catch up on its need for rest.Accept too about feeling down.  It is normal to feel down once in a while.  From this place of self-acceptance, trust any answers which come up to your mind.  Often answers about complicated topics come in small pieces, not all at once as a whole unit.Also, your description about panic attacks is also completely normal.   They often arise unrelated to particular conditions at a given moment.  They are a healthy symptom your body is trying to expel bad feelings and does this by having the anxiety erupt at times.So, self-acceptance, tolerance of being on a process of clearing out worn out emotional clutter, and sleep at odd times if possible, are all ways to stabilize yourself, which will also feel calm and good!",
         null
        ],
        [
         "26",
         "I am currently suffering from erectile dysfunction and have tried Viagra, Cialis, etc. Nothing seemed to work. My girlfriend of 3 years is very sexually frustrated. I told her that it is okay for her to have sex with other men. Is that really okay?",
         "Hi, First and foremost, I want to acknowledge your efforts to gain (your) ideal erectile function. If the medications are not working and you have taken them as prescribed, I would encourage you to seek the help of a sex therapist as the dysfunction may be due to a psychological and/or relational issue rather than a physical/medical one. As for your question, only you can answer this. Is it OK? Are you OK with her sleeping with others? Have you thought through what this may look like, feel like, become for you and her? Opening up a relationship is a choice only the people in the relationship can answer. Even then, the answer may change at any point by either of you. I encourage you to also determine what the intention is underneath your telling your girlfriend she could sleep with others. Be clear with the intention and then together have continuous conversations about the expectations of opening up (i.e.: are there any kinds of sex that is off limits, areas of the body where touch or intimacy is not allowed, are uses of safer sex required or not, do you want to know the details or not, so forth). An excellent resource would be the book \"Opening Up\" by Tristan Taormino. I wish you the best of luck!Dr. Lily Zehner, MFT-C",
         null
        ],
        [
         "27",
         "I have these dreams of men, and they always seem to try to hurt me. It's gotten so bad that I first wake at 4:30, then 4:45, and finally stay awake by 6:00. I'm always the last one to fall asleep and the first to wake. I hate falling asleep. The longest I've went without sleep is three days.",
         "The good news about your dreams is that your fears are right at the surface of your mind so you can study them and release some of the harm from the terrifying experiences you had which created these bad memories in the first place.The bad news is the feelings themselves are sickening.Probably a therapist would be very helpful for guiding you to unfold these uneasy feelings and their source.This type of deep work is easier with emotional support from someone.  A therapist can give you this plus is knowledgeable about dynamics of someone having been emotionally harmed by another.Or, read a lot online and find out which articles resonate with your emotions.Luckily people are willing to express personal stories of recuperating a sense of peace and safety after being violated by someone.",
         null
        ],
        [
         "28",
         "What makes a healthy marriage last?",
         "It's surprising how many folks talk too much on the subject;It's the same three things that make all relationships work:HonestyTrustRespect(in that order)Most folks fall down on the first :) (*coughcough* THERAPISTS!  Heh heh heh...)",
         null
        ],
        [
         "29",
         "I'm in a long-distance relationship with my ideal man, but I'm not as attracted to him as I should be. Everything else is perfect about him, but I find myself lusting over more attractive men. The next step is marriage, but I want to marry someone who I can wake up to and fall in love with all over again. However, I also don't want to throw away a great relationship over what might just be lust. Am I asking for too much in the \"perfect guy\"? Is there such a thing? Am I truly in love?",
         "Attraction is important but sometimes over-rated. I'm curious about your comment that you are not as attracted as you \"should be\" - What is your measuring stick is for what you are supposed to feel in terms of attraction in a relationship? Do you want to be sexually intimate? Do you enjoy having sex with him? Are you satisfied with your sexual relationship when you are with him? The fact that there is lust for other more attractive men does not necessarily mean anything. There will always be attractive men and more attractive men than your partner and these attractive men will be even more appealing when you are in a long-distance relationship far from the arms of your partner. Loving someone does not mean that you stop being a sexual being who no longer notices and desires attractive men. Attraction results from a number of factors beyond appearance - including the degree to which you feel emotionally open, safe, and connected and how in tune you are with each other's bodies. It sounds like you think very highly of this man \"everything else is perfect about him\". Maybe it is worth spending some more time together in the same place if that is possible before deciding on marriage or that you are not truly in love. ",
         null
        ],
        [
         "30",
         "How do I decide if I should end my relationship with my boyfriend?",
         "This can be a very challenging decision, and it may take time for you to sort through all of your feelings about the relationship and its possible end. Therapy can help you have a space to be completely honest with yourself about your relationship as you grapple with your decision of whether to remain with your boyfriend. Your therapist can ask questions to guide you in uncovering your true feelings about whether this is the right relationship for you, and he or she can support you in whatever decision you come to.",
         null
        ],
        [
         "31",
         "My older brother (in his 60s) started dating a lady with Asperger's. She is hyper-sexual and flirty. She does not understand boundaries. They’ve been dating for a few months, and she's talking marriage. Another sibling and his wife have met her, and they have said she is never invited back. My brother always picks similar ladies. Do we speak honestly and risk losing a relationship?",
         "If you and your brother are open w each other and respect each other’s opinions then there is little risk your relationship with him will end.If there already is strong animosity, mistrust, dislike between both of you then there is more chance he will not seriously consider your advice.For your own peace of mind, say whatever you feel must be said to him.The person you’ll need to live with is yourself so do what you believe is needed for you to feel good about saying what’s necessary.Even if he never follows through with your advice then you’ll still know you tried your best to advise.",
         null
        ],
        [
         "32",
         "We’ve been together almost three years. We argue and he ends it by telling me he doesn’t love me. It's hurtful because I am all about resolving the problem, and he dwells on the issue even if I drop what he's done and just swallow my pride and say I am sorry. How can this be resolved? We have kids, and I don't want a broken family because we can't communicate.",
         "You can't fix this by yourself, but I applaud you for trying. One person working hard in a relationship can make things better for a while., but in the long haul you need two people giving some effort. I'm reading between your lines here and I wonder if your need to keep the family together is getting you to apologize when you've done nothing wrong and ignore things you've felt hurt by. I sense that you're doing all the work...that it's not balanced. I have worked with many couples and I've learned never to underestimate what kind of change is possible; anything is possible. But in order for change in a couple to occur, you need two people who are both willing to own their choices and behaviours, and who have empathy. Your boyfriend doesn't appear to have these components; he pushes you away and blames you when he's done something hurtful.Can you be honest with yourself about what's happening? I encourage you to sit down with a trusted friend or therapist and look at what you have here and what your options are. I wish you well.",
         null
        ],
        [
         "33",
         "What makes my step child, an 8 year old boy, choke my daughter, a 6 year old girl? This has been going on for 4 years. The boy tells my daughter not to tell on him. He knows it's wrong; we have did time out, spanking, taking away toys, and sitting on the wall. I am afraid for my daughters safety!",
         "I can see why you are alarmed. That is a scary situation for a parent. Do you know if the child has been evaluated by a mental health professional? Early treatment is often the key. A professional will be able to help the child learn how to control their anger and mend the troublesome actions into more appropriate responses. Have you addressed your concerns with the child's other parent? There could be contributing factors in his life that could be causing these issues (exposure to violence, sexual/physical abuse, drug use, stressful events in his life, etc.). It is important that these factors are identified so that they can either be eliminated and/or reduced. I wouldn't hesitate to have him evaluated (if he hasn't been already) and to ensure that he is getting the help that he needs whether it be medication and/or therapy. Until then, I would make sure that he is always supervised under an adult's care.",
         null
        ],
        [
         "34",
         "I crossdress and like to be feminine but I am attracted to women, but yet that seems to bother girls I date or ask out. \n\nHow can I approach them about it? should I hold back and keep it a secret, or should I just be up-front about it.  I wonder if i should stop or if I should continue to do it since it makes me happy.  What should I do?",
         "While this might not be the first thing you want to discuss when you meet someone, it is important for you to be yourself.  It's better to weed out 10 people who can't accept you to find that one who can.  ",
         null
        ],
        [
         "35",
         "I just took a job that requires me to travel far away from home. My family and I really need this job.\n\nPeople keep telling me I have \"anxiety\" and I'm terrified of having an anxiety attack on the road. This is all new to me. What can I do?",
         "It is ok to have anxiety.   Please don't be anxious about being anxious.If you feel anxiety coming over you, then pull off the road to a safe place.   Concentrate on centering yourself and to breath slowly.   Take some sips of water.  Sit still.     The anxiety should pass in about twenty minutes.If it does not pass, then continue calming yourself until you feel safe enough to drive to your hotel.     You can always explain to your supervisor that you were taking care of a medical problem, because anxiety is a medical problem.",
         null
        ],
        [
         "36",
         "I have been noticing myself really enjoying watching/reading about gay or lesbian couples. I've also been imagining what it might be like to date a girl, and I like the idea. I also find guys cute too. Does this make me bisexual?",
         "Hello!  Thank you for your question.  Exploring your sexual orientation and attraction is a wonderful opportunity to get to know yourself!  I would be curious to know what feelings you might have related to the possibility of being bi; What messages you may have received related to this orientation and any concerns you have about possible sexual orientations.",
         null
        ],
        [
         "37",
         "I've tried working out and eating fruits and vegetables, but I always seem to eat the junk in the house.",
         "I know some people do better when they don't have as much junk food in the house. This is not as tempting then. Having said that, maybe you can reward yourself with different things, such as having dessert on certain days. If you are concerned about mostly eating habits, consider seeing a nutritionist. They can help you find the balance between what it is that you really want and your goals. I'm not sure how this links to happiness for you, but hopefully looking at your choices can lead you toward your goal of being healthier.",
         null
        ],
        [
         "38",
         "I feel really uncomfortable when I have people's attention.  It makes me not want to talk in public or answer questions in class. Can I get over this social anxiety?",
         "you can learn lots of skills/techniques to feel more confident in what you need to do that will decrease your anxious response for sure! :) And  you can also learn how to work with your personality that may not like the attention. You may find that \"talking\" to others through the internet is more comfortable and you are great at it, or that you love one on one talking but aren't really made for group talking. There is a place in this world for you either way! Public speaking skills can be practiced in speech class, or toastmaster group, they will give you practice in a safe environment where the cool kids or cutest boy aren't ready to laugh at you.  What topics are you interested in and what groups can you do a little speaking up? Maybe in your small group at church try and raise you hand to share your opinion, or maybe your Girl Scout troop? Look around for a peer and one adult who you like to hear speak out, ask them to share with you 2 things that help them feel comfortable speaking in public. Check out some Ted Talks and see how they share in groups. Social anxiety is a difficult concern and picking apart what is your awesome personality and what needs skill building and mindfulness/anxiety  help are important steps. Good luck!",
         null
        ],
        [
         "39",
         "I've been bulimic for about 6 years now. I'm in my early 20s. I am about to start back to school to become an RN, and I really need to get better once and for all.    I lose control of myself and become angry and anxious and just eat and purge. Over and over. Can someone please point me in the right direction for help?",
         "Eating disorders usually result from a sense of insecurity about who the person is, whether they are good enough compared with anyone else, and whether the way they person lives is effective.If you have a style you're already happy with to reflect on these sorts of topics, keep following your own logic with the aim to free yourself, which usually takes place gradually, from these sort of self-doubts.The other approach would be to find an unperson or an online discussion group where you'd be able to offer and receive the support from other people who live with a similar problem.Good luck in your studies!",
         null
        ],
        [
         "40",
         "I've gone to a couple therapy sessions so far and still everytime I walk in I get nervous and shaky. Is this normal? Should I still be feeling like this?",
         "It is absolutely a typical response.  Many of my clients are nervous the first couple of times we meet.  This is essentially a stranger with whom you are sharing your feelings.",
         null
        ],
        [
         "41",
         "I can't even smile or fake one. I can't feel happiness about anything and I can't show love towards another person not even my girlfriend. I hate myself sometimes. All I see is ugly.\n   I can't get over the loss of a loved one and I'm not close to my family. What can I do?",
         "Trust and believe your own feelings.Emotions are real and reflect how someone feels about a situation.Since you're sad about losing a loved one, be patient w your feelings about this.  Basically, be guided by how you feel and eventually you will feel different emotions which I hope will be happier ones.",
         null
        ],
        [
         "42",
         "My mother has Alzheimer's and she has become so nasty and mean to everyone and she always asks for unrealistic, silly or meaningless items. I get so frustrated and angry, but then I feel guilty because I know it probably isn’t her fault. How can I cope with feeling like this?",
         "From your initial description, I would say that your mother is \"Maloriented\". In this stage of Alzheimer's individuals tend to be blaming and difficult to deal with. They may often hide or throw things away and then blame family members for this. In addition, if they are incontinent, they may blame a leaky roof or something else when they are wet. You are correct that this is not her fault, but often for family members this does not make it any easier for you to cope. I strongly suggest that you learn communication strategies that will help you to communicate with your mother in a way that lets her work through the difficulties associated with the disease. I always suggest Validation techniques to family members.In addition, you need to give yourself some kind attention and take time out from your circumstances as needed. You need to be able to center yourself and come to acceptance that this is your mother's illness that is the problem, not her and certainly not you.",
         null
        ],
        [
         "43",
         "I want a secure relationship with someone that wants to be with me and who will actually put effort into it.\n I seem to gravitate toward unavailable men and those that want intimacy and no relationship. I let men dictate and control me because they accuse me of being controlling. I let men emotionally abuse me and I am at their beck and call.\n I am not comfortable being alone or doing anything by myself. I feel I need the security of someone being around just to survive. I know what I'm doing wrong and I do it anyway just hoping things will change. How do I stop this behavior and thought process?",
         "Good for you on your keen awareness of your difficulties and your willingness to change!The type of change you'd like to achieve is possible, and since a change in self-confidence and self-love is deep rooted, this comes about gradually and slowly.Keep understanding yourself during your moments of doubt and anxiety.  Its fine to feel terrible and certainly better to know you feel insecure than to act upon the insecurity by being with men who take advantage of you.Everyone needs to feel loved and recognized.Until you attract a partner who will love and appreciate you, develop relationships with co-workers and classmates, neighbors, so that you have some quality of giving and being given by someone.It is a way to nurture yourself and another person until your strength and self-belief grow bigger.",
         null
        ],
        [
         "44",
         "I was with my friends fishing by a pond. I found a frog and stabbed it with my friend's knife. I'm not sure why I did it. My friends saw me do it it and were shocked and got really mad at me.\n\nNow if someone brings it up I get really upset and panicked. I don't know why I feel like this. Does this mean there is something wrong with me?",
         "The good news is your awareness that being violent to animals feels out of character for you.   I'm glad you have awareness and I'm glad you are not at ease with killing frogs.Fairly likely that you were acting out aggressively toward the frog, feelings of being on the receiving side of similar type of violence.Basically, you did unto the frog what someone has or to you, feels like, has been done to you.Use your surprising finding of how strong your anger and most likely inward pain.   Reflect on your closest relationships and how these people treat you.   It is possible you feel more hurt by someone who is close to you than you ever realized.Stabbing innocent frogs is wrong.  It is understandable as a way to show you how much inner pain you probably have.It is also wrong that someone close to you hurt you.The direction to go is to recognize your pain and then decide how to go about changing what is possible on your side of that or those relationship(s).",
         null
        ],
        [
         "45",
         "I’m a man, and I’m soon to be married. I have been messing around with other men on the side. It started as a once in a while thing, but it’s been happening a lot. I don't know what to do.",
         "Hello, and thank you for your question. When faced with these kinds of difficult challenges, I usually encourage people to look to their values for help in determining what their behavior should be. Indeed, it is usually when our behaviors conflict with our values that we don't feel very content with our lives. Perhaps you can take some time to think through a couple of these questions: What kind of person do I want to be deep in my heart? What kind of character do I want to have when in public and in my private world when nobody is watching? How would I want others to describe me? Let's say that you want others to see you as being authentic, and YOU also value authenticity as something you want to live by. You may feel like this value is currently at odds with the behaviors you are engaging in right now. That you are not being the person that you really are deep in your heart. This is not an unusual struggle when it comes to sexual behavior and sexual orientation. So please, try not to feel alone. We all know quite well how unacceptable it may be to be seen as gay, lesbian, bisexual, etc. And I am not just talking about being unaccepted by others, but a person may have a VERY hard time accepting themselves. Thinking about your values and living a life based on them can bring a lot of freedom, but I won't lie, it can also bring a lot of pain at the same time. For example, someone with the value of living authentically may decide they have to tell others who they are and what they stand for, even if that means people may disapprove. That may cause a lot of pain, but it may also come with a sense of freedom to live a life based on honesty and authenticity. It may be helpful to find a counselor who is trained in affirmative therapy, which is recommended for people who are navigating their sexual behaviors and figuring out what is right for them. I would also sit down and think through some of the questions above and consider what your values are... both as an individual and as someone's fiancé.Above all, I wish you well in this journey. Robin J. Landwehr, DBH, LPC, NCC",
         null
        ],
        [
         "46",
         "I have so many issues to address. I have a history of sexual abuse, I’m a breast cancer survivor and I am a lifetime insomniac.    I have a long history of depression and I’m beginning to have anxiety. I have low self esteem but I’ve been happily married for almost 35 years.\n   I’ve never had counseling about any of this. Do I have too many issues to address in counseling?",
         "Absolutely not.  I strongly recommending working on one issue/need at a time.  In therapy you will set smart goals and objectives that will help you reach your goals.  I see you as a survivor and not a victim.  Best wishes to you.",
         null
        ],
        [
         "47",
         "I have three siblings. My mom loves them and not me. She’s always yelling at me, but when it comes to my siblings, she talks to them. I’m always crying in my room.",
         "Have you ever tried talking with her about this when she's not angry? While I hear you saying that it feels like she doesn't love you, there could be a lot of other pieces to this. Have you ever told her about how much she means to you (when she's not angry)?",
         null
        ],
        [
         "48",
         "I am in my early 20s and I still live with my parents because I can't afford to live alone.\n   My mother says that if I live under her roof I have to follow her rules. She is trying to control my life. What should I do?",
         "That is a really tough situation that a lot of young people are experiencing right now. The first thing to under is that you can’t change who your parents are and cannot change their behavior. The thing to keep in mind is that you can control your responses and actions.  You may need to keep living at home with them for the next few months or years and the best way to do this is to have a plan. The second thing is to keep in mind that their controlling behavior is most likely not about based your behavior. Controlling parents are often driven by their concept of what will keep their children safe and happy. Unfortunately this is not always accurate but keep in mind it is not a personal attack.  There are ways you can deal with controlling parents – and most of them require creating a plan of action.Examples of action plans:Decide in advance how you’ll calmly and rationally respond to your parents when you feel they’re trying to control youArrange to phone a friend or trusted adult when you feel like you’re losing controlTalk in person to an adult you trust. There aren’t any quick tips on how to deal with parents who want to control you; you need to find strategies that are geared to your specific family situation. Get specific coping tips from books about family dynamics, such as:Toxic Parents: Overcoming Their Hurtful Legacy and Reclaiming Your Life by Susan ForwardCutting Loose: An Adult's Guide to Coming to Terms with Your Parents by Howard HalpernA counselor can be a good resource and provide support and guidance about issues addressing normal growth and development during periods of transition.",
         null
        ],
        [
         "49",
         "I keep getting into relationships with men that are in bad situations. I take them on and help them and do all I can and the relationship still fails. How do I learn to not get in relationships with men in bad situations? I see someone in need of help, I jump in. And it is getting me nowhere. I am alone sad and frustrated.",
         "Sounds like you already see what's amiss. You're looking for fix-er-uppers! When you meet these men they need you. And you're filled by fixing them.  And when they are fixed, what do they have to give you? What's your need in relationship? What if you found someone who didn't need fixing? ",
         null
        ]
       ],
       "shape": {
        "columns": 3,
        "rows": 200
       }
      },
      "text/html": [
       "<div>\n",
       "<style scoped>\n",
       "    .dataframe tbody tr th:only-of-type {\n",
       "        vertical-align: middle;\n",
       "    }\n",
       "\n",
       "    .dataframe tbody tr th {\n",
       "        vertical-align: top;\n",
       "    }\n",
       "\n",
       "    .dataframe thead th {\n",
       "        text-align: right;\n",
       "    }\n",
       "</style>\n",
       "<table border=\"1\" class=\"dataframe\">\n",
       "  <thead>\n",
       "    <tr style=\"text-align: right;\">\n",
       "      <th></th>\n",
       "      <th>Context</th>\n",
       "      <th>Response</th>\n",
       "      <th>Answer</th>\n",
       "    </tr>\n",
       "  </thead>\n",
       "  <tbody>\n",
       "    <tr>\n",
       "      <th>0</th>\n",
       "      <td>We weren't long distance until he joined the m...</td>\n",
       "      <td>You're wise to be aware of possible changes to...</td>\n",
       "      <td>None</td>\n",
       "    </tr>\n",
       "    <tr>\n",
       "      <th>1</th>\n",
       "      <td>I have no real friends. I have a girlfriend wh...</td>\n",
       "      <td>Having time all to yourself may be necessary s...</td>\n",
       "      <td>None</td>\n",
       "    </tr>\n",
       "    <tr>\n",
       "      <th>2</th>\n",
       "      <td>I feel like my time is going too fast</td>\n",
       "      <td>Thank you for reaching out! That is a great qu...</td>\n",
       "      <td>None</td>\n",
       "    </tr>\n",
       "    <tr>\n",
       "      <th>3</th>\n",
       "      <td>He wants to wear makeup and heels. He even tuc...</td>\n",
       "      <td>It sounds like you may be asking two different...</td>\n",
       "      <td>None</td>\n",
       "    </tr>\n",
       "    <tr>\n",
       "      <th>4</th>\n",
       "      <td>I am a really shy person. I'm currently in a g...</td>\n",
       "      <td>First of all, way to go in stretching yourself...</td>\n",
       "      <td>None</td>\n",
       "    </tr>\n",
       "    <tr>\n",
       "      <th>...</th>\n",
       "      <td>...</td>\n",
       "      <td>...</td>\n",
       "      <td>...</td>\n",
       "    </tr>\n",
       "    <tr>\n",
       "      <th>195</th>\n",
       "      <td>Maybe this is a stupid question, but I sometim...</td>\n",
       "      <td>It is not a stupid question, it is very basi...</td>\n",
       "      <td>None</td>\n",
       "    </tr>\n",
       "    <tr>\n",
       "      <th>196</th>\n",
       "      <td>I feel that I need to end my present relations...</td>\n",
       "      <td>It sounds like you have some insight into the ...</td>\n",
       "      <td>None</td>\n",
       "    </tr>\n",
       "    <tr>\n",
       "      <th>197</th>\n",
       "      <td>How do I decide if I should end my relationshi...</td>\n",
       "      <td>That's a loaded question.  Typically, if we ar...</td>\n",
       "      <td>None</td>\n",
       "    </tr>\n",
       "    <tr>\n",
       "      <th>198</th>\n",
       "      <td>I don't know what to say. I have never really ...</td>\n",
       "      <td>The older I get, the more I believe that our r...</td>\n",
       "      <td>None</td>\n",
       "    </tr>\n",
       "    <tr>\n",
       "      <th>199</th>\n",
       "      <td>Whenever I run into a situation that makes me ...</td>\n",
       "      <td>Congratulations on making your way to Step One...</td>\n",
       "      <td>None</td>\n",
       "    </tr>\n",
       "  </tbody>\n",
       "</table>\n",
       "<p>200 rows × 3 columns</p>\n",
       "</div>"
      ],
      "text/plain": [
       "                                               Context  \\\n",
       "0    We weren't long distance until he joined the m...   \n",
       "1    I have no real friends. I have a girlfriend wh...   \n",
       "2                I feel like my time is going too fast   \n",
       "3    He wants to wear makeup and heels. He even tuc...   \n",
       "4    I am a really shy person. I'm currently in a g...   \n",
       "..                                                 ...   \n",
       "195  Maybe this is a stupid question, but I sometim...   \n",
       "196  I feel that I need to end my present relations...   \n",
       "197  How do I decide if I should end my relationshi...   \n",
       "198  I don't know what to say. I have never really ...   \n",
       "199  Whenever I run into a situation that makes me ...   \n",
       "\n",
       "                                              Response Answer  \n",
       "0    You're wise to be aware of possible changes to...   None  \n",
       "1    Having time all to yourself may be necessary s...   None  \n",
       "2    Thank you for reaching out! That is a great qu...   None  \n",
       "3    It sounds like you may be asking two different...   None  \n",
       "4    First of all, way to go in stretching yourself...   None  \n",
       "..                                                 ...    ...  \n",
       "195    It is not a stupid question, it is very basi...   None  \n",
       "196  It sounds like you have some insight into the ...   None  \n",
       "197  That's a loaded question.  Typically, if we ar...   None  \n",
       "198  The older I get, the more I believe that our r...   None  \n",
       "199  Congratulations on making your way to Step One...   None  \n",
       "\n",
       "[200 rows x 3 columns]"
      ]
     },
     "execution_count": 88,
     "metadata": {},
     "output_type": "execute_result"
    }
   ],
   "source": [
    "df = pd.read_csv('testset.csv')\n",
    "df['Answer'] = None\n",
    "df"
   ]
  },
  {
   "cell_type": "code",
   "execution_count": 89,
   "id": "15d0a0a4",
   "metadata": {},
   "outputs": [
    {
     "name": "stdout",
     "output_type": "stream",
     "text": [
      "Processed row 1/200\n",
      "Maintaining a long-distance relationship while your partner is in the military can be challenging, but open communication and trust are key. Make an effort to stay connected through regular check-ins, shared activities, or even small gestures like letters or care packages. Embrace your strengths and work together to navigate this phase, knowing that your love and commitment can help you both through it.\n",
      "Processed row 6/200\n",
      "Quitting smoking is challenging, especially when it’s tied to mental habits rather than just physical cravings. To support your journey, consider speaking with a counsellor or local mental health nurse for emotional guidance and strategies to manage the mental aspect of addiction. Additionally, connecting with supportive friends, family, or a trusted health professional can provide encouragement and accountability. Remember, taking care of yourself is crucial for both your well-being and your future plans.\n",
      "Processed row 11/200\n",
      "To fight winter sadness, try engaging in activities that boost your mood, like exercising indoors, spending time with loved ones, or using a light therapy lamp. Additionally, consider reaching out to a counselor or trusted person to share your feelings and get support. Taking small, positive steps can help you manage seasonal sadness effectively.\n",
      "Processed row 16/200\n",
      "It sounds like you’re carrying a lot of emotional weight, and it’s tough when you don’t feel heard by your parents or friends. Writing down your thoughts, as suggested in the context, might help you process your feelings before seeking support from trusted adults like teachers or counselors. You’re not alone, and reaching out to resources or professionals who understand your situation can make a difference.\n",
      "Processed row 21/200\n",
      "It sounds like you're in a challenging and emotionally draining relationship. Loving someone who exhibits narcissistic behaviors can be difficult, but it's important to prioritize your well-being. Consider speaking with a therapist to help you understand your patterns and build healthier connections. Therapists trained in Cognitive-Behavioral Therapy (CBT) might be particularly helpful in addressing these dynamics.\n",
      "Processed row 26/200\n",
      "It sounds like you’re going through a tough time, and it’s important to know that you’re not alone. Panic attacks and sleeplessness can be overwhelming, but talking to someone you trust, like a doctor, counselor, or mental health professional, can help you get the support you need. You might also find it helpful to explore resources like CBT (Cognitive Behavioral Therapy) techniques, which are evidence-based ways to manage emotions and reduce symptoms. You’ve got this—reach out for help when you need it.\n",
      "Processed row 31/200\n",
      "Deciding whether to end a relationship is a deeply personal choice that can feel overwhelming, especially as a young caregiver. It may help to talk to someone you trust, like a family member, friend, or support worker, to gain perspective and guidance. Consider how the relationship affects your well-being and whether it aligns with your dreams and aspirations for the future.\n",
      "Processed row 36/200\n",
      "It’s understandable to feel anxious about this new chapter, especially when it involves being away from home. Start by talking to someone you trust about your fears, which can help you feel supported. Additionally, consider reaching out to a counselor or mental health professional who can provide strategies to manage anxiety while traveling.\n",
      "Processed row 41/200\n",
      "It’s completely normal to feel nervous and shaky when starting therapy—it’s a new and vulnerable experience. Over time, these feelings may lessen as you become more comfortable. If it persists, consider sharing these feelings with your therapist so they can help you manage them effectively.\n",
      "Processed row 46/200\n",
      "It sounds like you're dealing with a complex situation that’s causing a lot of stress. It’s important to be honest with yourself and your partner about your feelings and actions moving forward. Consider reaching out to a trusted friend, counselor, or support group to help you navigate this situation and make decisions that feel right for you.\n",
      "Processed row 51/200\n",
      "No, you don’t have too many issues to address in counseling. A trained counselor can help you navigate your complex history and experiences in a supportive and structured way. Starting counseling can be a positive step toward healing and managing your mental health.\n",
      "Processed row 56/200\n",
      "It's completely normal to feel frustrated and guilty in this situation—remember, it’s the disease affecting your mother’s behavior, not her true self. Try expressing your feelings through writing, like a diary or letter, to help process your emotions. Don’t hesitate to seek support from trusted friends, family, or professionals, as your mental health is important too.\n",
      "Processed row 61/200\n",
      "It sounds like you're experiencing intrusive thoughts, which can be distressing but are not uncommon, especially during times of stress. It’s important to remember that these thoughts don’t define who you are, and talking to someone you trust or seeking professional support can help you manage them. Consider exploring self-help resources or apps designed for mental well-being, but reaching out for additional support is key.\n",
      "Processed row 66/200\n",
      "It sounds like your father’s betrayal has deeply affected your trust, making it hard to let go of the fear that your boyfriend might cheat. To stop obsessing, try setting boundaries with yourself—limit how often you check his phone or social media—and communicate openly with your boyfriend about your feelings. Consider speaking to a trusted friend or counselor to process these emotions and rebuild trust over time.\n",
      "Processed row 71/200\n",
      "It sounds like you're experiencing misophonia, where certain sounds like eating and breathing trigger strong emotional reactions. To manage this, consider using noise-canceling headphones or white noise machines to block out the sounds. It’s also important to talk to a trusted adult, counselor, or doctor for further support and strategies to cope with these feelings.\n",
      "Processed row 76/200\n",
      "It’s important to have open communication with your mother about how you feel while respecting her rules. You could also seek support from trusted friends, family, or a project worker to help navigate this situation and explore options for your future. If you feel at risk of being unable to stay at home, mention it in a young carers assessment to ensure you receive appropriate support.\n",
      "Processed row 81/200\n",
      "To deal with stress, start by identifying what makes you feel worried or stressed, and consider coping strategies like taking breaks or practicing mindfulness. It’s also important to talk to someone you trust, such as a friend, family member, or counselor, for support and guidance. You can find more resources and help on the Children’s Society website for young carers.\n",
      "Processed row 86/200\n",
      "It sounds like you’re feeling overwhelmed and isolated, which is completely understandable given the responsibilities and pressures of being a young carer. It’s important to remember that you’re not alone—reaching out to trusted friends, family, or support groups can help you feel more connected. Additionally, taking small steps to do something you enjoy each day, or even writing down your thoughts, can help ease the weight of everything on your mind.\n",
      "Processed row 91/200\n",
      "Yes, it is completely normal to cry during therapy. Many people experience strong emotions when discussing personal challenges, and crying can be a healthy way to release those feelings. You’re not alone in this experience.\n",
      "Processed row 96/200\n",
      "It’s important to have an open and honest conversation with your fiancé about how his behavior is making you feel. Explain your past experiences and why his actions are causing you concern, while also giving him a chance to share his perspective. Building trust requires transparency from both sides, so consider setting boundaries together to address your worries and strengthen your relationship.\n",
      "Processed row 101/200\n",
      "Yes, you can overcome social anxiety. Start by talking to someone you trust, like a friend, relative, or teacher, about how you feel—this can help you get the right support. You can also try writing down your thoughts in a diary or letter to better understand your feelings before seeking help from a counselor or mental health professional.\n",
      "Processed row 106/200\n",
      "I’m so sorry for your loss. You can reach out to trusted friends, family, or a teacher for support—many are willing to listen and help. Additionally, free counseling may be available through your school, local community centers, or online resources like caregiver.org. You’re not alone, and there are people ready to support you.\n",
      "Processed row 111/200\n",
      "It’s completely normal to feel nervous about starting therapy, and crying is a natural response that many people experience—it’s nothing to be embarrassed about. Therapists are trained to provide a safe, nonjudgmental space for you to express your emotions. Remember, it’s okay to feel vulnerable, and this process is about helping you feel better. You’re taking a brave step by seeking support.\n",
      "Processed row 116/200\n",
      "It sounds like you're dealing with a lot of pain from your past and stress in your current relationship. It’s important to communicate openly with your wife about your feelings and to create a safe space where you can both express yourselves without escalating to physical confrontation. Seeking support from a couples therapist or counselor could help you both navigate these challenges and build a healthier relationship.\n",
      "Processed row 121/200\n",
      "It sounds like you're feeling hurt and disconnected in your relationship, which is completely valid. Open and honest communication with your husband about your feelings and needs can help bridge this gap. Consider seeking support, whether through couples counseling or talking to a trusted friend, to navigate this challenge together.\n",
      "Processed row 126/200\n",
      "It sounds like you’re dealing with a lot of emotions and concerns about this situation. It’s important to communicate openly with your dad and friend about how you feel, while also considering your kids’ perspectives. Talking to a trusted therapist or counselor could help you navigate these complex feelings and find a way forward that respects everyone’s needs.\n",
      "Processed row 131/200\n",
      "It’s important to acknowledge your feelings and seek support to manage your anxiety and depression. Start by talking to someone you trust, like a friend, family member, or teacher, or consider writing down your thoughts to process them better. Additionally, reach out to a doctor, counselor, or mental health professional who can offer tailored advice and emotional support. Take care of yourself—your well-being matters.\n",
      "Processed row 136/200\n",
      "It’s possible that after working on yourself and experiencing a relationship that didn’t work out, you’re still in a phase of self-reflection and healing. It’s okay to take time to focus on your own well-being and interests before jumping back into dating. If no one sparks your interest right now, it could simply mean you’re prioritizing your personal growth and waiting for a connection that feels right.\n",
      "Processed row 141/200\n",
      "It’s completely normal to feel this way, and it’s important to remember that your identity goes beyond being a mom and wife. Consider talking to someone who can listen and support you, whether it’s a friend, family member, or a counselor, to help you reconnect with your own dreams and aspirations. Writing down your thoughts or exploring activities that bring you joy can also help you rediscover yourself and find balance.\n",
      "Processed row 146/200\n",
      "It’s completely valid to feel this way, and forgiveness can be a difficult and deeply personal process. Take your time to process your emotions, and consider talking to someone you trust—like a friend, family member, or counselor—to help navigate these feelings. Remember, it’s okay to seek support as you work through this.\n",
      "Processed row 151/200\n",
      "It sounds like you're experiencing a lot of emotional and mental strain, which can be overwhelming, especially as a young carer. It’s important to know that you’re not alone, and seeking support from someone you trust or a mental health professional can make a big difference. Resources like self-help apps or talking to a therapist might also help you feel more in control and understood.\n",
      "Processed row 156/200\n",
      "It sounds like you're experiencing intense and distressing thoughts and emotions that are significantly impacting your daily life. It’s important to reach out to a mental health professional, such as a doctor, counselor, or therapist, who can provide the support and guidance you need. Consider exploring cognitive behavioral therapy (CBT), which has been found helpful for many people in managing similar feelings and thoughts.\n",
      "Processed row 161/200\n",
      "No, you don’t have too many issues to address in counseling. A skilled counselor can help you work through complex histories like yours in a structured and supportive way. It’s never too late to seek help, and counseling can provide valuable tools to address your concerns and improve your well-being.\n",
      "Processed row 166/200\n",
      "It’s understandable to feel concerned about your friend’s well-being. I encourage you to reach out to a trusted healthcare professional, counselor, or school nurse for guidance on how to support her. You can also consider talking to her community psychiatric nurse if she has one, as they can provide advice on managing her condition and ensuring her safety.\n",
      "Processed row 171/200\n",
      "It sounds like you’re carrying a lot of emotional weight from your past relationship, and it’s okay to feel this way. Cognitive Behavioral Therapy (CBT) can be very helpful for managing PTSD, anxiety, and depression — you might consider resources like the book *Feeling Good* by David Burns or the app *Uplift*. It’s also important to reach out to someone you trust or a mental health professional for support. You don’t have to face this alone.\n",
      "Processed row 176/200\n",
      "It’s okay to feel unsure about your emotions, and it’s important to prioritize your mental health. Talking to someone you trust, like a parent, teacher, or counselor, can help you feel supported. Remember, seeking help is a positive step, and you’re not alone in this.\n",
      "Processed row 181/200\n",
      "It sounds like the communication issues between your family members are causing stress for your mom. It might help to encourage open, direct conversations between your uncle and cousin to address the misunderstandings. You could also support your mom by listening to her concerns and helping her set boundaries with your uncle to reduce her stress.\n",
      "Processed row 186/200\n",
      "It sounds like he might be struggling with depression or low mood, so encouraging him to speak to a doctor, GP, or mental health professional could be a crucial first step. Engaging in healthier routines, like regular sleep, exercise, and hobbies, might also help improve his mood and motivation. You could suggest trying some evidence-based techniques, like mindfulness or CBT-based exercises, to help manage negative emotions.\n",
      "Processed row 191/200\n",
      "To build confidence with presentations, start by practicing small habits like preparing well and gradually exposing yourself to more social situations. Consider reading helpful resources like \"How to Win Friends and Influence People\" for insights on improving social skills. Additionally, talking to someone you trust or even writing down your thoughts can help reduce stress and build confidence over time.\n",
      "Processed row 196/200\n",
      "It’s not a stupid question, and feeling unsure about what’s real is something many people experience. These thoughts can be influenced by your mental health, so it’s important to talk to someone you trust, like a counselor or trusted adult, who can help you explore these feelings. Taking care of your well-being and seeking support can help you find clarity and peace.\n"
     ]
    }
   ],
   "source": [
    "for i, row in df.iterrows():\n",
    "    question = instruction + row['Context']\n",
    "    # response = graph.invoke({\"question\": question})\n",
    "    response = graph.invoke({\n",
    "        \"question\": question,\n",
    "        \"max_tokens\": 4096,\n",
    "        \"top_p\": 1,\n",
    "        \"top_k\": 40,\n",
    "        \"presence_penalty\": 0,\n",
    "        \"frequency_penalty\": 0,\n",
    "        \"temperature\": 0.6,\n",
    "    })\n",
    "    df.at[i, 'Answer'] = response['answer']\n",
    "\n",
    "    if i % 5 == 0:\n",
    "        print(f\"Processed row {i+1}/{len(df)}\")\n",
    "        print(response['answer'])"
   ]
  },
  {
   "cell_type": "code",
   "execution_count": 90,
   "id": "5e4a4ae0",
   "metadata": {},
   "outputs": [],
   "source": [
    "df.to_csv(f'{MODEL}_RAG_baseline1.csv', index=False)"
   ]
  },
  {
   "cell_type": "code",
   "execution_count": 91,
   "id": "55999268",
   "metadata": {},
   "outputs": [
    {
     "data": {
      "application/vnd.microsoft.datawrangler.viewer.v0+json": {
       "columns": [
        {
         "name": "index",
         "rawType": "int64",
         "type": "integer"
        },
        {
         "name": "Context",
         "rawType": "object",
         "type": "string"
        },
        {
         "name": "Response",
         "rawType": "object",
         "type": "string"
        },
        {
         "name": "Answer",
         "rawType": "object",
         "type": "string"
        }
       ],
       "ref": "3a9de763-cc3e-43fe-9945-a271165e5aec",
       "rows": [
        [
         "0",
         "We weren't long distance until he joined the military.  I love him and I know he loves, me but it's complicated. He said he's not going to find someone else, but I'm afraid. How do I keep our relationship going?",
         "You're wise to be aware of possible changes to your relationship once your bf is away from you for extended time periods.All you both can do is state your intentions and wishes, keep in contact as much as possible, and wait to see how your relationship unfolds.To a large degree, each of you is relying on faith that if the relationship is meant to last for a while, then it will.   The military may add stress.This doesn't necessarily mean the stress will dissolve the relationship.Sometimes all anyone is able to do, is try.",
         "Maintaining a long-distance relationship while your partner is in the military can be challenging, but open communication and trust are key. Make an effort to stay connected through regular check-ins, shared activities, or even small gestures like letters or care packages. Embrace your strengths and work together to navigate this phase, knowing that your love and commitment can help you both through it."
        ],
        [
         "1",
         "I have no real friends. I have a girlfriend who irritates me but loves me to death. I push her away and pushes me away. We’re going through a breakup, and I have nobody.",
         "Having time all to yourself may be necessary so you have time to reflect on your own identity and values, become more clear on what matters most to you, and with this increased self-understanding, be able to attract people who will feel like satisfying friends.Having a relationship with someone whom you push away and are pushed away, with someone who is irritating, seems to have limited benefit for each of you.Maybe you are together from fear of being alone, and being alone is exactly what you may now need in your life in order to draw more favorable people to you.",
         "I’m sorry you’re feeling so alone right now. This is a tough time, but reaching out to supportive people, like family, a teacher, or even a group of young carers, can help you feel less isolated. You’re not alone, and there are people who care and want to support you."
        ],
        [
         "2",
         "I feel like my time is going too fast",
         "Thank you for reaching out! That is a great question! As an American, I can truly say that I spend way too much time on the go! It is a proven fact that Americans live in a fast paced environment compared to Europe! I often ask myself, what if I only had one day left on this Earth? What would I do? Well, that is an easy question. I would spend it with my family! Easier said than done when we are living in a tomorrow kind of World, right? Its hard to focus on the now when we are so consumed in what tomorrow shall bring.Time management is a very important factor when learning to \"live life to the fullest\"! In fact, this is a required course in undergraduate college now. Everyone manages their time differently and it is up to you to decide how you would like to do this. Personally, for myself I like to keep a calendar with a to-do list. I always place my most important tasks at the top of the list. That way, if I do not get through the list, I am not stressing over the little things. When planning your day, it is important you schedule work, eat and play. A much as it is hard not to work after getting off work, it must be done. There is discipline involved in this process. If you have trouble with this, then maybe seeking out some accountability such as including a coworker to make sure you do not bring work home once your shift is over or your spouse/partner reminding you that this is a time for play and not work.These are just some ideas that I am throwing out there. Again, everyone has their own style on time management. I hope this was helpful for you. Please don't hesitate to reach out for anything further!",
         "Feeling like time is going too fast can be overwhelming, especially as a young carer with many responsibilities. It’s important to identify what causes this stress and find coping strategies, such as prioritizing tasks or setting aside time for self-care. Don’t hesitate to talk to someone you trust or seek support from friends, family, or professionals who can guide and help you manage your feelings."
        ],
        [
         "3",
         "He wants to wear makeup and heels. He even tucks his penis away to resemble a vagina. He wants me to wear a strap on and have anal sex with him. I have tried this for him, but I don’t like it and have told him so. He keeps making comments about it and says he can't live without it.",
         "It sounds like you may be asking two different questions.With regard to what you said about your husband dressing as a female in your bedroom, I wonder if you would consider asking him more about this. If you choose to do that, I would suggest that you ask him whether a certain time is a good time to have a conversation and asking questions for five minutes or more that are related to you learning more about his experience. This can be difficult to do at times, particularly when you may want to offer your own opinions or become very anxious or of type. Consider thinking of a phrase that may help you to stay calm during the discussion. It may be helpful to think of yourself as asking questions as if you were an investigative reporter and using questions that start with words like \"what, how, who, where, when.\" Questions that start with \"why,\" can be very difficult to answer for some people and can be overwhelming because it often links to answers involving emotions that may or may not be understood. Also try restating what your husband is saying to make sure that you are understanding correctly. If what he is telling you is different than what you have heard or thought of for many years, it may be challenging to follow his meaning initially. Remember that listening to your husband does not imply agreement with what he is saying, just that you are following and looking to understand what he is experiencing. I also recommend sticking to one topic for the conversation, but this could be done with many different topics over time.You could also see if he would be willing to have a discussion where he listens like an investigative reporter to learn more about the experience that you are having.As far as what you mentioned about the sexual experience, maybe if you can discuss what it is that you don't like and/or understand what it is that he does like, you could see if there is some middle ground here. It depends on what you both prefer.These types of conversations can be difficult to have for some couples, at least initially. Having structured conversations, such as the ones I've described briefly above, can feel awkward initially, but the reason it can be helpful is because it can lead to further understanding in a way that decreases the chances of having an argument.Also consider seeing a therapist in your area who specializes in couples to discuss some of these ideas.",
         "It’s important to prioritize your comfort and boundaries in any relationship. If you’ve expressed that this activity makes you uncomfortable and he continues to pressure you, it’s crucial to stand firm in your decision and consider seeking support from a confidential adviser or counselor to navigate this situation. Healthy relationships are built on mutual respect and understanding of each other’s boundaries."
        ],
        [
         "4",
         "I am a really shy person. I'm currently in a graduate program which requires lots of presentations, but they always make me feel stressed out and less confident. How can I get more confident?",
         "First of all, way to go in stretching yourself out of your comfort zone! You are sure to grow through all of this practice presenting to your peers, and that in itself will help to grow your confidence over time. In the meantime, do whatever you can to help yourself feel prepared for each presentation. Do your work ahead of time so that you feel well-informed on your topic, and then spend the days leading up to your presentation practicing. Do your presentation in the mirror, while you are driving (if it won't distract you from the road), and practice in front of a friend. On the day of the presentation, eat a balanced meal, get a pep talk from a supportive friend, use deep breathing to keep your body calm, and remind yourself that you are prepared. You got this!",
         "To build confidence in presentations, start by practicing small habits like preparing thoroughly and focusing on positive outcomes. Additionally, consider discussing your feelings with someone you trust or a teacher to gain support and perspective. Small, consistent steps and seeking help can gradually boost your confidence."
        ],
        [
         "5",
         "I'm planning to have baby, so I have to quit smoking - but it's hard. Sometimes it's not a physical need, it's mental.\n   I cannot help myself from thinking about smoking. What can I do to get rid of this addiction?",
         "It is very good news that you realize the risks of smoking cigarettes while pregnant and are willing to stop.Thinking about smoking is a typical and frequent reaction to being without the substance.Be creative with what you know about yourself to distract you when this psychological urge comes up.  My suggestions are to imagine smoking if you find this would relieve the sense of wanting to smoke.Or, do the opposite and remind yourself of all the good reasons to not smoke.Also, since you're planning pregnancy then ask your partner for ideas on how to make the psychological feeling to want to smoke, feel less intense.Another suggestion is that your partner is your texting buddy to stop smoking.   With AA groups, a sponsor is always available for the alcoholic who feels distress about the urge to drink.   Having a trusted and caring person to tell about your problem helps in many situations.  Maybe it will help you to stop smoking.Good luck!",
         "Quitting smoking is challenging, especially when it’s tied to mental habits rather than just physical cravings. To support your journey, consider speaking with a counsellor or local mental health nurse for emotional guidance and strategies to manage the mental aspect of addiction. Additionally, connecting with supportive friends, family, or a trusted health professional can provide encouragement and accountability. Remember, taking care of yourself is crucial for both your well-being and your future plans."
        ],
        [
         "6",
         "I found the guy I’m dating on dating websites. He was telling women that they were beautiful. He said it wasn’t him and that the phone was hacked. It has since happened two other times. He says he loves me and I’m the only girl he wants to be with, but I feel he is not telling me the truth.",
         "I would suggest possibly talking about the type of relationship that both of you want to create. For example, you may want a relationship where honesty, listening, compassion, and romanticism are major parts. You could also see what your boyfriend wants.You may also consider taking five minutes to see if he will listen to your feelings about him being on the dating site and whether he can work to learn more about what you are experiencing with asking open-ended questions (not being answered with yes or no) and restating what you are saying to see if he has it right. After that, perhaps you could switch so that you can listen to his perspective for five minutes and learn more about what he is doing by asking open-ended questions.Remember that it takes two people to have  a relationship, so the choice is yours as to whether you choose to stay in the relationship and what kind of relationship you would like to have.",
         "It sounds like you're feeling hurt and unsure about your partner’s honesty, which is completely valid. Trust is essential in any relationship, and his repeated behavior and explanations may not align with your expectations of honesty and respect. It’s important to prioritize your own feelings and decide what feels right for your well-being moving forward."
        ],
        [
         "7",
         "After I told them, they yelled at me.",
         "It's most important that you accept yourself and surround yourself with a group of friends who are kind to you and love you. Family hearing news of any kind for the first time if they are an anxious type of character, will always be tough to digest. Time is important to let it all settle in and also making sure you're taking good care of yourself... I think you're brave and I give you a lot of credit for not denying who you are -- you will inspire so many people to do the same in your life. Wishing you all the best. Gina",
         "It sounds like you’re feeling hurt after being yelled at, and that’s completely valid. If this behavior feels like bullying or is making you feel unsafe, consider reaching out to a trusted adult or a helpline like Childline for support. You’re not alone, and there are people who can help you navigate this situation."
        ],
        [
         "8",
         "I’ve been on 0.5 mg of Xanax twice a day for the past month. It hasn't been helping me at all, but when I take 1 mg during a big anxiety attack, it calms me down. I was wondering how I can ask my psychologist to up the dose to 1 mg twice a day without her thinking I'm abusing them. I just have very big anxiety attacks. Should I stay on the 0.5mg and deal with the attacks or should I ask to up the dose? I'm afraid she will take me off them and put me on something else.",
         "Do you think you're abusing xanax?It is a highly addictive drug so maybe one reason you feel compelled to take more is bc you already are addicted.Drugs don't do anything helpful in solving life's problems.   Once the effect wears off, the stressful situation is once again waiting for you to address it.Think over your reason for not directly asking your psychologist about upping your dose.Also, do you ever talk about your life problems with this psychologist or only your need for drugs?    The more gradual path to a better life is to not need drugs in the first place. This consists of your willingness to face the matters that are creating such terrible feelings inside you.",
         "It's important to have an open and honest conversation with your psychologist about how the current dose isn't managing your anxiety effectively during most of the day but helps during severe attacks. You can explain your concerns about being taken off Xanax and express your willingness to follow their guidance. Suggest discussing a potential dose adjustment or exploring other treatment options together to find a solution that works best for you."
        ],
        [
         "9",
         "We've been dating for two months now. I have a heavy past that gets him angry. Does he have a right to penalize me for things I did before I met him?",
         "How is he penalizing you?Have you asked for his reasons for wanting to know about your heavy past?His answers may be very different than that he would like penalizing you.What you can do is explain how pressured you feel by his questions.Ideally, the two of you will become much closer by talking openly about your respective discomforts and wishes from the other.",
         "No, he does not have the right to penalize you for things you did before you met him. Your past is yours to carry, and a healthy relationship should focus on understanding and support rather than judgment or punishment. It’s important to communicate openly about how his reactions affect you and to seek mutual respect."
        ],
        [
         "10",
         "Every winter I find myself getting sad because of the weather.  How can I fight this?",
         "Sometimes its quite literally the lack of sunshine that can affect our mood - in these cases it can be worth experimenting with a sun lamp, to boost your dose of vitamin D, when the sun isn't naturally out. Also consider, what is it that the change in weather, changes in your life? If for example, when its sunny you are an outdoorsy, active person and when the weather changes, you're whole activity level changes along with it, you could explore how to get some of that activity replicated indoors in the winter months.",
         "To fight winter sadness, try engaging in activities that boost your mood, like exercising indoors, spending time with loved ones, or using a light therapy lamp. Additionally, consider reaching out to a counselor or trusted person to share your feelings and get support. Taking small, positive steps can help you manage seasonal sadness effectively."
        ],
        [
         "11",
         "I'm planning to have baby, so I have to quit smoking - but it's hard. Sometimes it's not a physical need, it's mental.\n\nI cannot help myself from thinking about smoking. What can I do to get rid of this addiction?",
         "Hi. Good for you in planning ahead to do what's healthiest for your baby (and yourself). That's a great first step! It's also good that you are able to identify that it's not always a physical need that's driving the addiction.For the next steps, I would suggest trying to figure out when the psychological cravings for a cigarette occur. The psychological (or mental) cravings are usually based out of habit, such as having a cigarette after a meal. And if you're consciously trying to quit, you'll find the craving starts with simply thinking about having a cigarette, then usually moves on to thinking about how good it made you feel, etc., etc. Well, if I'm on a diet and I continue to let myself think about the ice cream sitting in the freezer, eventually I'll give in and eat it.You're going to have thoughts about smoking a cigarette. That's normal and, for the most part, out of your control. But you choose whether or not to CONTINUE thinking and dwelling about it after that initial thought. That's what you would have to work on changing. When you have that initial thought, acknowledge it (\"Ok, I kind of want a cigarette now.\"), but then change the thoughts that typically follow. Distract yourself, think about something else, do something else, whatever it takes to get your mind off of that cigarette.I've suggested to clients before that they should plan these scenarios out ahead of time so they already know what they're going to do when the time comes. Write down when you usually have the craving for a cigarette and then write down new thoughts or things to do to get your mind off of it. Eventually, it will become easier and easier to brush off that initial thought until you no longer have it.Best of luck, and you have a really great motivator to quit - your baby!",
         "Quitting smoking can be challenging, especially when it’s tied to mental habits. Reach out to healthcare professionals like doctors, nurses, or counselors for personalized advice and support. Additionally, consider talking to friends, family, or a mental health professional who can provide guidance and encouragement as you work through this transition."
        ],
        [
         "12",
         "I'm transgender, I know I am, but I've only told a few friends. I know I can't tell my family because of previous conversations we've had. They just wouldn't accept it.\nMy gender dysphoria is getting really difficult to deal with on my own. I need some strategies for dealing with it. What should I do?",
         "Hello, and thank you for your question. I am so glad that you reached out for help. I know that the dysphoria can feel nearly impossible to handle, especially since you have limited support from people who accept who you are. You may already know some of these resources, but I am going to share a few. 1. The website www.letsqueerthingsup.com is a blog from a very good writer that I know. His name is Sam Dylan Finch, and he is transgender. He writes about mental health, transgender issues, and many other topics. I know he has frequently written about gender dysphoria and ways to manage it. You may want to check out his site and do a search on there. 2. The website www.everydayfeminism.com employs many transgender writers and several have written about gender dysphoria and have given ideas for managing it. If you search for gender dysphoria on their site, many articles pop up. It may be a good resource for you, especially if you ever feel lonely and start to forget that there are others out there who are like you and have your back. 3. I am not sure where you live, but there are counselors who specialize in affirmative therapy, which is what is recommended for folks who are part of the LGBTQ community. So, if you decide to see a counselor about the dysphoria, try to find one that specifically says they have been trained in the affirmative approach. In addition, feel free to ask questions of the counselor before agreeing to see them for counseling. An ethical counselor would have no problem answering them before having you come in. 4. If there are some LGBTQ resource centers in your area, try to reach out to them and see if there are support groups. Gaining more support from others would be helpful. Sometimes LGBTQ-friendly counselors leave their contact information for people in resource centers. 5. Finally, I know you have not mentioned being depressed or suicidal, but I also know that it is very common for people to consider suicide when they are struggling with dysphoria, dealing with transphobia, etc. If this ever happens to you, please call 911 or the Trans Lifeline. It's free at 877-565-8860. Visit their site at www.translifeline.org. I hope some of these ideas help. Feel free to send another message if you have a follow-up question.Be well....be YOU.Robin J. Landwehr, DBH, LPC, NCC ",
         "It sounds like you're going through a tough time, and it’s important to prioritize your mental health. Consider reaching out to a counselor or a trusted health professional, such as a school nurse or a local mental health nurse, who can provide emotional support and guidance. Additionally, exploring resources or self-help tools specifically designed for young carers can help you manage your feelings and develop coping strategies. You’re not alone, and there are people who can help."
        ],
        [
         "13",
         "Whenever I leave my girlfriend I get panic attacks. I'm taking medications to control them, but I'm thinking of moving in with her since I get so anxious.",
         "I’m sorry to hear that you are currently experiencing panic attacks. I hope that the medication you have been prescribed has provided you with some relief. Unfortunately, I don’t feel that moving in with your girlfriend would alleviate your anxiety. Although you may feel very anxious about leaving her, your body is reacting to this stressful event in your life in an unhealthy manner. You may be able to render this particular situation but it’s likely that you may experience another panic attack when an additional stressful event arises. Therefore, it is essential that you address the reason for why you are experiencing panic attacks in the first place followed by practicing coping mechanisms in the case that one would arise in the future.Talk therapy has shown to be effective with those affected by anxiety along with breathing exercises and yoga. A trained therapist will be able to assist you in finding the right stress reducing method so that you can reduce the chance of another attack occurring.I wish you the best of luck! It sounds like you are very happy in your relationship and I hope you are able to reduce your anxiety so that you are able to enjoy one another.",
         "It’s understandable that you’re feeling anxious when you’re apart from your girlfriend. While considering moving in with her might feel like a solution, it’s also important to explore other ways to manage your panic attacks. Talking to someone you trust, like a counselor or mental health professional, can provide additional support and help you develop strategies to cope with your anxiety."
        ],
        [
         "14",
         "I know I need to deal with my depression. But I don't know how and I don't want to tell anyone.    How can I deal with depression without telling anyone?",
         "Hello,It is completely understandable that you would not want people to know about your depression. I would first like commend you for realizing that you need to help with your depression by reaching out here. That is a great start, and you've taken the very first courageous step. Depression can feel debilitating and overwhelming. Depression is also a very personal thing and no one has know but you and the therapist. The best way to begin learningand dealing is to pick up the phone and call a therapist or email a therapist and schedule a session. The great news is that with professional help you can feel better and you will learn how deal with and manage the depression. There are many ways to help with depression that a therapist can teach you and help guide. You do not have do this alone. Asking for help and going to therapy is a strength! This can be done in a private and confidential setting.Depression should be treated by a therapist, in a safe, confidential office setting. The therapist can then discuss your depression with you in more detail to figure out the underlying cause, how long you've been feeling this way and identify what brings on these feelings. There is hope and depression can be treated with great success, you CAN feel good again. Depression can be managed appropriately by seeing a licensed therapist. Often times therapy will offer relief because you would have someone there simply to listen to you, validate your feelings and listen to your story. The therapist will be able to offer professional insight and perspective on the situation and help you think outside the box. The therapist can do many things with you, provide insight and offer many ideas to help you learn new coping skills and ideas of things you enjoy, encouraging you to re engage in hobbies you once enjoyed or even discover new things you may enjoy. There are creative ways to learn to cope too!Your therapist will also be there to support you, without judgement, at your pace, through the entire process. But the first step is finding a therapist and beginning to identify the cause your depression. Healing is possible and getting your happiness back is also possible.Feel free contact me for additional help or informationLaura Cassity, LMSW, LMAC",
         "Dealing with depression without telling anyone can be challenging, but self-help strategies like writing in a diary, using mental health apps, or reflecting on your feelings through creative outlets like poetry can be helpful. However, it’s important to remember that reaching out to a trusted individual or professional, even anonymously, can provide significant support. Resources like school counselors or local mental health services can also offer guidance while maintaining your privacy."
        ],
        [
         "15",
         "I've never been able to talk with my parents. My parents are in their sixties while I am a teenager. I love both of them but not their personalities. I feel that they do not take me seriously whenever I talk about a serious event in my life. If my dad doesn’t believe me, then my mom goes along with my dad and acts like she doesn’t believe me either. I’m a pansexual, but I can’t trust my own parents.\nI've fought depression and won; however, stress and anxiety are killing me. I feel that my friends don't listen to me. I know they have their own problems, which I do my best to help with. But they don't always try to help me with mine, when I really need them. I feel as if my childhood has been taken from me. I feel as if I have no one whom I can trust.",
         "One of the most difficult challenges we face is not being heard! It is incredibly frustrating and hurtful when others, especially parents, do not listen. While your parents surely love you and want to understand you, it may be difficult for them to fully understand your feelings and experiences. They are quite a bit older and have likely not dealt with some of the struggles that you face. I would suggest communicating your feelings to them about not being heard. Talk to them during a non-emotional moment when the discussion is not already heated. In other words, do not wait until an argument ensues to have an open discussion with them about how you are feeling. Prepare them by asking them what time is good for them to talk. Let them know you have something important to get off your chest. Try and avoid using exaggerated or extreme language such as \"you NEVER listen,\" \"you ALWAYS say...\" and stray away from placing blame. Instead of beginning your statements with \"you\" try using \"I\" by letting them know how their behavior effects you. Finally, let them know that they are important to you and that having their trust and support would mean a lot to you. Perhaps giving them suggestions as to what you wish for and would like to see change would help them to better understand.I would also suggest that you seek guidance from a therapist, teacher, or school counselor if possible. Most schools have counseling resources on sight in which a trained professional is available to talk with students looking for help.Best of luck to you.",
         "It sounds like you’re carrying a lot of emotional weight, and it’s tough when you don’t feel heard by your parents or friends. Writing down your thoughts, as suggested in the context, might help you process your feelings before seeking support from trusted adults like teachers or counselors. You’re not alone, and reaching out to resources or professionals who understand your situation can make a difference."
        ],
        [
         "16",
         "My fiancé and I come from a strong Christian background but both went off the \"straight and narrow\" once before. He is having a hard time accepting my past, especially that I'm not a virgin. He has a hard time in general accepting himself and others.    His insecurities are hurting our relationship. How can I help him let go of my past and decide to live in the present?",
         "You might ask your fiance about people who have let him down in the past; past hurts from parents, friends, people he has dated. If you are speaking about jealousy he may come from a divorced parent upbringing, may have seen parents cheat on one or the other, may have had partners cheat on him in the past.  He may have fears that you may go off the \"straight and narrow\" once you get married. Listen to any concerns with patience and understanding, avoid being defensive. I would highly encourage pre-marital counseling to explore these things and individual counseling for himself to work on fears and anxieties. If he refuses and things do not improve I would consider postponing the wedding, things will not get better once you get married, only magnified.  Finally show him Bible passages about forgiveness and worry and leaning on God with faith and hope for the future.    God bless.",
         "It’s clear that your fiancé’s struggles with acceptance are deeply affecting both of you. To help him move forward, consider having open, compassionate conversations that focus on forgiveness, self-acceptance, and your shared Christian values of grace and redemption. Encourage him to seek support, such as counseling or spiritual guidance, to address his insecurities and work toward healing. Remind him that your love and commitment in the present matter more than past mistakes."
        ],
        [
         "17",
         "My fiancé and I broke up. He cheated on me numerous times. I kept forgiving but questioning his every move. He got tired and left.",
         "Cheating on you shows a lack of commitment, in addition to the emotional hurt it creates.Probably you didn't actually forgive him because if you did, then you wouldn't have been asking questions of his every move.Maybe you were open to forgiving him.   In order for forgiveness to be effective, the person who has done the injuring must first show some understanding and empathy for the great pain the person caused in you.From what you write, your fiancé didn't seem to have much interest in earning back your trust or in empathizing with the way his cheating effected you.It is very likely his tiredness is also tiredness you feel, of having to watch him all the time.As uncomfortable as adjusting with the disappointment of him leaving you, the situation you describe sounds like it was unsatisfying for both of you.",
         "I’m so sorry you’re going through this. It’s completely valid to feel hurt and betrayed. Remember, your caregiving experience has already taught you resilience—lean on your strengths and reach out to trusted friends or family for support during this tough time. You’ve overcome challenges before, and you’ll navigate this too."
        ],
        [
         "18",
         "My girlfriend and I have broken up and gotten back together numerous times in the past two years. We recently just broke up again last night on New Year’s Eve. When we break up, the very next day, she calls me and acts as if nothing has happened. She acts like everything is alright. This has been going on for two years. I do love her and care about her and her children a lot, but she seems really demanding as far as what she deserves from a man. She is always telling me that she deserves this and that from a man. It makes me feel like crap because I cannot give her everything that she wants. She told me one time that she wants a man who is going to be afraid to lose her. Is that a normal thing that women want, or should I just move on already? I am in my 30s and she is in her 40s.",
         "Love is not enough to keep a relationship together.The people need to get along happily too.Let's start with knowing more about your happiness in being with your partner.The frequent break ups happen for a reason.  Try understanding more of why you go back together again.You state a few very clear reasons to not continue this relationship, such as \"feeling like crap\" and not liking that your girlfriend hopes her  partner will feel afraid to leave her.Trust your intuition telling you that these feelings matter.Sometimes men aren't sure whether following their instinct is a right action to take.It is.Also, hoping a partner will fear losing them, shows a wish to control a person.Control has nothing to do with love and trust, and these are basics of a relationship.Good luck!",
         "It’s not necessarily about what \"women want\" in general, but rather what *she* specifically expects and whether that aligns with your capacity to meet those expectations. If her demands make you feel inadequate and the cycle of breaking up and getting back together is emotionally draining, it might be time to consider if this relationship is healthy for you. Reflect on what you truly need and deserve in a partnership, and consider seeking support to navigate this decision."
        ],
        [
         "19",
         "My coworkers are making false statements about me to the boss, saying I have mood swings. They have no proof to back it up. Can my employer make me see a therapist of their choice?",
         "If this is a concern of a few coworkers, make sure it is not something they see but you don't admit to.  Employers can \"suggest\" or something \"stipulate\" in continued employment with them  for you to go to their Employment Assistance Provider (EAP) if they have noticed the same behavior and concerned of how it is effecting productivity or employee relationships.  No one wants to work in a environment which they consider hostile.  Employers can be held responsible if they do not take action.Couple of things you can do...Ask a coworker in which you trust and respect if what others are saying is true?Seek professional help from your primary care provider or counselor if mood swings do exist.      ",
         "No, your employer cannot force you to see a therapist of their choice unless it is explicitly stated in your employment contract or related policies. However, if you feel that the situation is affecting your well-being, it might be helpful to consider seeking support on your own terms, such as speaking with a counselor or mental health professional you trust. It’s important to address workplace conflicts directly through communication or HR to resolve misunderstandings."
        ],
        [
         "20",
         "My ex-boyfriend and I have been back and forth for over a year now. He's in his late 20s, divorced for like five years now with two kids. He has a lot of narcissistic behaviors. He lies and cheats, but I love him. I've tried to date other people, but I always go back to him.",
         "There are a lot of pieces to the decision of whether to stay or leave. Can you have open conversations about your concerns? Is he able to listen to that? I'm not sure how you know for sure that he lies and cheats, but does he recognize these things as problems? Which part of you is bigger: the part of you that wants to stay or the part of you that wants to leave? Can you consider what you want, wish for, and desire while also considering the same for him? Can he do that for you?",
         "It sounds like you're in a challenging and emotionally draining relationship. Loving someone who exhibits narcissistic behaviors can be difficult, but it's important to prioritize your well-being. Consider speaking with a therapist to help you understand your patterns and build healthier connections. Therapists trained in Cognitive-Behavioral Therapy (CBT) might be particularly helpful in addressing these dynamics."
        ],
        [
         "21",
         "Whenever I don't tell my friends or anyone what I did or stuff that's not really important, I feel terrible, like there’s a hole in my stomach. It only goes away when I hurt myself.",
         "Hi Kansas, I feel strongly that the help of a professional therapist is important here. Feelings are never wrong, but it can help to understand where they come from and talk to someone who can teach you healthy ways to cope. Self-harm is not the answer to managing those emotions you feel in your stomach. Although I'm glad you said something here, a professional would need to spend some time with you and get a deep understanding of your life in order to help you sort all these reactions out effectively. I hope you reach out to someone soon. ",
         "It sounds like you’re carrying a lot of emotions that feel overwhelming, and it’s important to know that hurting yourself isn’t the only way to cope. Talking to someone you trust, like a friend, relative, or teacher, can help ease that heavy feeling. Writing down your thoughts in a diary or letter might also help you process your emotions before reaching out for support. You don’t have to face this alone."
        ],
        [
         "22",
         "My husband has had issues with alcohol addiction in the past (he'd never admit to this). A while back (3 years ago), I asked him to stop drinking so much, and he agreed. I caught him one night drinking behind my back. I confronted him and he lied, but I told him I knew he was lying because I counted the beers in the fridge and four of them were missing. He admitted and apologized and promised he wouldn't do it again. Lately, my husband has been drinking on and off, but I noticed it was every single night. I didn't like this. For our New Year’s resolution, we decided we were going to limit our alcohol consumption. He was on board—no more drinking every night.\n The other night, I counted the beers in the fridge just to see if some were missing. It took a couple of days, but tonight, I discovered a few were missing along with a shot of vodka. He was passed out on the couch when I decided to wake him up and confront him (poor timing, but I couldn't wait). I asked him if he'd come to bed with me (when he drinks, he snores and I cannot sleep—it's a dead giveaway he's been drinking). He slurred a bit and said no. I asked if he had been drinking, but he snapped and said no. I went into our room to sleep, leaving him on the couch.  I'm not sure if I'm overreacting or not. I just feel like I'm so honest with him about everything, and I expect the same honesty. He is a good husband in every other regard.",
         "As exasperated as you feel, and as obvious it is to you that your husband cares more about drinking than being honest with you, changing this is up to him.Does he care that you're upset with him for drinking more than he can handle?Does he care about you more than drinking?Living with an alcoholic, which is how his behavior sounds, is lonely and frustrating.Concentrate on what you like about him as he is now with his drinking.Your happiness matters.  His ignoring of what you're talking about, doesn't mean your requests are unreasonable.Be prepared to learn to live with and accept how he behaves, or not.Avoid the expectation that you can convince him to change.People change only when they realize their life can improve by changing.  He doesn't sound like this, at least now.",
         "It sounds like you’re feeling hurt and concerned about your husband’s drinking and the lack of honesty. Your feelings are valid, and it’s important to address this issue together. Consider having an open, calm conversation when he’s sober and, if needed, seek support from a therapist or counselor to navigate this challenge. You’re not overreacting—honesty and trust are crucial in a relationship."
        ],
        [
         "23",
         "I have this weird fetish that I'm afraid to open up about it. What should I do?",
         "This is difficult to answer because you don’t tell us what the fetish is.  I do understand that this is something that is bothering you though. The first thing to ask yourself is if this is something that is illegal or not.  If this is illegal to engage in, then you need to seek counseling help immediately to control the urges.However, if your fetish is not something illegal and you just feel that it is something odd, a therapist could still help you deal with these feelings.  You may find that it is something very common and not something to be ashamed of.  You may find other people have the same interest as you.  Find a therapist that you can trust and tell them.  Don’t hold back with your therapist.  Trust me, they have heard and seen it all by now, and they can help you either stop the behavior that is causing you distress, or help you come to terms with accepting the behavior as part of who you are.  There is no need to suffer with this alone. ",
         "It’s okay to feel unsure about opening up, and it’s important to talk to someone you trust, like a counselor, therapist, or a trusted adult, who can listen without judgment and provide guidance. You could also consider reaching out to a local young carers project or support service for additional help and understanding. Remember, you’re not alone, and seeking support is a positive step."
        ],
        [
         "24",
         "I'm 15 and my girlfriend is 14. Am I a pedophile because I'm attracted to her and she's under 18?",
         "No. You are not a pedophile. You are both under the appropriate age where it would be seen so. Your both only a year a part so this shouldn't a worry to you. Like Frank said below, Pedophelia is a problem that won't apply to this situation.",
         "No, you are not a pedophile. Pedophilia involves attraction to prepubescent children, and your girlfriend is close in age to you. It’s normal for teenagers to feel attraction to peers around their own age."
        ],
        [
         "25",
         "I have been feeling more and more down for over a month. I have started having trouble sleeping due to panic attacks, but they are almost never triggered by something that I know of.",
         "Answers about our inner lives are most successfully reached from a sense of feeling grounded in oneself.First step is to accept your nervousness and restless sleep.  As often as possible, sleep during daytimes in order for your body to catch up on its need for rest.Accept too about feeling down.  It is normal to feel down once in a while.  From this place of self-acceptance, trust any answers which come up to your mind.  Often answers about complicated topics come in small pieces, not all at once as a whole unit.Also, your description about panic attacks is also completely normal.   They often arise unrelated to particular conditions at a given moment.  They are a healthy symptom your body is trying to expel bad feelings and does this by having the anxiety erupt at times.So, self-acceptance, tolerance of being on a process of clearing out worn out emotional clutter, and sleep at odd times if possible, are all ways to stabilize yourself, which will also feel calm and good!",
         "It sounds like you’re going through a tough time, and it’s important to know that you’re not alone. Panic attacks and sleeplessness can be overwhelming, but talking to someone you trust, like a doctor, counselor, or mental health professional, can help you get the support you need. You might also find it helpful to explore resources like CBT (Cognitive Behavioral Therapy) techniques, which are evidence-based ways to manage emotions and reduce symptoms. You’ve got this—reach out for help when you need it."
        ],
        [
         "26",
         "I am currently suffering from erectile dysfunction and have tried Viagra, Cialis, etc. Nothing seemed to work. My girlfriend of 3 years is very sexually frustrated. I told her that it is okay for her to have sex with other men. Is that really okay?",
         "Hi, First and foremost, I want to acknowledge your efforts to gain (your) ideal erectile function. If the medications are not working and you have taken them as prescribed, I would encourage you to seek the help of a sex therapist as the dysfunction may be due to a psychological and/or relational issue rather than a physical/medical one. As for your question, only you can answer this. Is it OK? Are you OK with her sleeping with others? Have you thought through what this may look like, feel like, become for you and her? Opening up a relationship is a choice only the people in the relationship can answer. Even then, the answer may change at any point by either of you. I encourage you to also determine what the intention is underneath your telling your girlfriend she could sleep with others. Be clear with the intention and then together have continuous conversations about the expectations of opening up (i.e.: are there any kinds of sex that is off limits, areas of the body where touch or intimacy is not allowed, are uses of safer sex required or not, do you want to know the details or not, so forth). An excellent resource would be the book \"Opening Up\" by Tristan Taormino. I wish you the best of luck!Dr. Lily Zehner, MFT-C",
         "It’s important to communicate openly with your girlfriend about how you both feel regarding this situation. If both of you genuinely consent to this arrangement and it doesn’t negatively impact your relationship or emotional well-being, then it could be a personal decision to consider. However, it’s also advisable to seek professional advice, such as from a therapist or doctor, to address the underlying issues of erectile dysfunction and to ensure that both of you are making a healthy and informed choice."
        ],
        [
         "27",
         "I have these dreams of men, and they always seem to try to hurt me. It's gotten so bad that I first wake at 4:30, then 4:45, and finally stay awake by 6:00. I'm always the last one to fall asleep and the first to wake. I hate falling asleep. The longest I've went without sleep is three days.",
         "The good news about your dreams is that your fears are right at the surface of your mind so you can study them and release some of the harm from the terrifying experiences you had which created these bad memories in the first place.The bad news is the feelings themselves are sickening.Probably a therapist would be very helpful for guiding you to unfold these uneasy feelings and their source.This type of deep work is easier with emotional support from someone.  A therapist can give you this plus is knowledgeable about dynamics of someone having been emotionally harmed by another.Or, read a lot online and find out which articles resonate with your emotions.Luckily people are willing to express personal stories of recuperating a sense of peace and safety after being violated by someone.",
         "It sounds like these dreams are causing significant distress and disrupting your sleep. I’d recommend trying mindfulness or meditation (like the Waking Up app) to help calm your mind before bed, and consider exploring Cognitive Behavioral Therapy (CBT) techniques to address any unhelpful beliefs fueling these dreams. If this continues, it might be helpful to speak with a mental health professional for more personalized support."
        ],
        [
         "28",
         "What makes a healthy marriage last?",
         "It's surprising how many folks talk too much on the subject;It's the same three things that make all relationships work:HonestyTrustRespect(in that order)Most folks fall down on the first :) (*coughcough* THERAPISTS!  Heh heh heh...)",
         "The context provided doesn’t directly address what makes a healthy marriage last. However, based on general knowledge, a healthy marriage often thrives on mutual respect, open communication, and emotional support. Building trust and maintaining a strong partnership can help sustain a lasting relationship."
        ],
        [
         "29",
         "I'm in a long-distance relationship with my ideal man, but I'm not as attracted to him as I should be. Everything else is perfect about him, but I find myself lusting over more attractive men. The next step is marriage, but I want to marry someone who I can wake up to and fall in love with all over again. However, I also don't want to throw away a great relationship over what might just be lust. Am I asking for too much in the \"perfect guy\"? Is there such a thing? Am I truly in love?",
         "Attraction is important but sometimes over-rated. I'm curious about your comment that you are not as attracted as you \"should be\" - What is your measuring stick is for what you are supposed to feel in terms of attraction in a relationship? Do you want to be sexually intimate? Do you enjoy having sex with him? Are you satisfied with your sexual relationship when you are with him? The fact that there is lust for other more attractive men does not necessarily mean anything. There will always be attractive men and more attractive men than your partner and these attractive men will be even more appealing when you are in a long-distance relationship far from the arms of your partner. Loving someone does not mean that you stop being a sexual being who no longer notices and desires attractive men. Attraction results from a number of factors beyond appearance - including the degree to which you feel emotionally open, safe, and connected and how in tune you are with each other's bodies. It sounds like you think very highly of this man \"everything else is perfect about him\". Maybe it is worth spending some more time together in the same place if that is possible before deciding on marriage or that you are not truly in love. ",
         "It’s not unusual to question whether your feelings are based on love or lust, especially when considering a lifelong commitment. The “perfect guy” may not exist, as relationships often involve compromise and evolving feelings over time, much like how passions and interests can grow and change. Reflecting on what truly makes you happy and considering open communication with your partner or even a therapist could help clarify your feelings and next steps."
        ],
        [
         "30",
         "How do I decide if I should end my relationship with my boyfriend?",
         "This can be a very challenging decision, and it may take time for you to sort through all of your feelings about the relationship and its possible end. Therapy can help you have a space to be completely honest with yourself about your relationship as you grapple with your decision of whether to remain with your boyfriend. Your therapist can ask questions to guide you in uncovering your true feelings about whether this is the right relationship for you, and he or she can support you in whatever decision you come to.",
         "Deciding whether to end a relationship is a deeply personal choice that can feel overwhelming, especially as a young caregiver. It may help to talk to someone you trust, like a family member, friend, or support worker, to gain perspective and guidance. Consider how the relationship affects your well-being and whether it aligns with your dreams and aspirations for the future."
        ],
        [
         "31",
         "My older brother (in his 60s) started dating a lady with Asperger's. She is hyper-sexual and flirty. She does not understand boundaries. They’ve been dating for a few months, and she's talking marriage. Another sibling and his wife have met her, and they have said she is never invited back. My brother always picks similar ladies. Do we speak honestly and risk losing a relationship?",
         "If you and your brother are open w each other and respect each other’s opinions then there is little risk your relationship with him will end.If there already is strong animosity, mistrust, dislike between both of you then there is more chance he will not seriously consider your advice.For your own peace of mind, say whatever you feel must be said to him.The person you’ll need to live with is yourself so do what you believe is needed for you to feel good about saying what’s necessary.Even if he never follows through with your advice then you’ll still know you tried your best to advise.",
         "It’s important to approach this situation with honesty and care, as your brother’s relationship dynamics and the lady’s Asperger’s may require sensitivity. Consider expressing your concerns calmly and focusing on specific behaviors that worry you, rather than criticizing her as a person. If the conversation feels too challenging, seeking advice from a counselor or mental health professional could help you navigate this delicate topic."
        ],
        [
         "32",
         "We’ve been together almost three years. We argue and he ends it by telling me he doesn’t love me. It's hurtful because I am all about resolving the problem, and he dwells on the issue even if I drop what he's done and just swallow my pride and say I am sorry. How can this be resolved? We have kids, and I don't want a broken family because we can't communicate.",
         "You can't fix this by yourself, but I applaud you for trying. One person working hard in a relationship can make things better for a while., but in the long haul you need two people giving some effort. I'm reading between your lines here and I wonder if your need to keep the family together is getting you to apologize when you've done nothing wrong and ignore things you've felt hurt by. I sense that you're doing all the work...that it's not balanced. I have worked with many couples and I've learned never to underestimate what kind of change is possible; anything is possible. But in order for change in a couple to occur, you need two people who are both willing to own their choices and behaviours, and who have empathy. Your boyfriend doesn't appear to have these components; he pushes you away and blames you when he's done something hurtful.Can you be honest with yourself about what's happening? I encourage you to sit down with a trusted friend or therapist and look at what you have here and what your options are. I wish you well.",
         "It sounds like you’re in a difficult situation, and it’s clear you care deeply about your family. Communication is key, and seeking support from a counselor or therapist could help both of you express your feelings in a constructive way. Additionally, reaching out to trusted friends or family members for emotional support might provide some relief as you navigate this challenge. Remember, prioritizing your well-being is essential for both you and your family."
        ],
        [
         "33",
         "What makes my step child, an 8 year old boy, choke my daughter, a 6 year old girl? This has been going on for 4 years. The boy tells my daughter not to tell on him. He knows it's wrong; we have did time out, spanking, taking away toys, and sitting on the wall. I am afraid for my daughters safety!",
         "I can see why you are alarmed. That is a scary situation for a parent. Do you know if the child has been evaluated by a mental health professional? Early treatment is often the key. A professional will be able to help the child learn how to control their anger and mend the troublesome actions into more appropriate responses. Have you addressed your concerns with the child's other parent? There could be contributing factors in his life that could be causing these issues (exposure to violence, sexual/physical abuse, drug use, stressful events in his life, etc.). It is important that these factors are identified so that they can either be eliminated and/or reduced. I wouldn't hesitate to have him evaluated (if he hasn't been already) and to ensure that he is getting the help that he needs whether it be medication and/or therapy. Until then, I would make sure that he is always supervised under an adult's care.",
         "It sounds like your stepchild’s behavior is deeply concerning and may stem from unresolved emotional issues, power dynamics, or even learned behaviors. Since traditional disciplinary methods haven’t worked, it’s crucial to seek professional help, such as family therapy or counseling, to address the root cause of his actions. Your daughter’s safety is paramount, so consider contacting a confidential adviser or child protection services for immediate support and intervention."
        ],
        [
         "34",
         "I crossdress and like to be feminine but I am attracted to women, but yet that seems to bother girls I date or ask out. \n\nHow can I approach them about it? should I hold back and keep it a secret, or should I just be up-front about it.  I wonder if i should stop or if I should continue to do it since it makes me happy.  What should I do?",
         "While this might not be the first thing you want to discuss when you meet someone, it is important for you to be yourself.  It's better to weed out 10 people who can't accept you to find that one who can.  ",
         "You should prioritize being true to yourself because crossdressing and expressing your femininity make you happy. It’s important to be upfront about this aspect of your identity when dating, as honesty fosters trust and helps you find someone who accepts you fully. If someone is bothered by it, they may not be the right match, and that’s okay—keep seeking connections that align with your authentic self."
        ],
        [
         "35",
         "I just took a job that requires me to travel far away from home. My family and I really need this job.\n\nPeople keep telling me I have \"anxiety\" and I'm terrified of having an anxiety attack on the road. This is all new to me. What can I do?",
         "It is ok to have anxiety.   Please don't be anxious about being anxious.If you feel anxiety coming over you, then pull off the road to a safe place.   Concentrate on centering yourself and to breath slowly.   Take some sips of water.  Sit still.     The anxiety should pass in about twenty minutes.If it does not pass, then continue calming yourself until you feel safe enough to drive to your hotel.     You can always explain to your supervisor that you were taking care of a medical problem, because anxiety is a medical problem.",
         "It’s understandable to feel anxious about this new chapter, especially when it involves being away from home. Start by talking to someone you trust about your fears, which can help you feel supported. Additionally, consider reaching out to a counselor or mental health professional who can provide strategies to manage anxiety while traveling."
        ],
        [
         "36",
         "I have been noticing myself really enjoying watching/reading about gay or lesbian couples. I've also been imagining what it might be like to date a girl, and I like the idea. I also find guys cute too. Does this make me bisexual?",
         "Hello!  Thank you for your question.  Exploring your sexual orientation and attraction is a wonderful opportunity to get to know yourself!  I would be curious to know what feelings you might have related to the possibility of being bi; What messages you may have received related to this orientation and any concerns you have about possible sexual orientations.",
         "It sounds like you’re exploring your feelings and attractions, and that’s a natural part of understanding your identity. Finding both girls and guys cute and imagining dating a girl could indeed suggest that you’re bisexual, but ultimately, only you can decide how you identify. It’s okay to take your time and explore what feels right for you."
        ],
        [
         "37",
         "I've tried working out and eating fruits and vegetables, but I always seem to eat the junk in the house.",
         "I know some people do better when they don't have as much junk food in the house. This is not as tempting then. Having said that, maybe you can reward yourself with different things, such as having dessert on certain days. If you are concerned about mostly eating habits, consider seeing a nutritionist. They can help you find the balance between what it is that you really want and your goals. I'm not sure how this links to happiness for you, but hopefully looking at your choices can lead you toward your goal of being healthier.",
         "It sounds like you’re making great efforts with exercise and healthy eating, but junk food can be hard to resist. One tip is to keep the house stocked with healthier snacks you enjoy, so they’re easier to reach for. You might also consider talking to a trusted friend, family member, or a local carers’ project for extra support and motivation."
        ],
        [
         "38",
         "I feel really uncomfortable when I have people's attention.  It makes me not want to talk in public or answer questions in class. Can I get over this social anxiety?",
         "you can learn lots of skills/techniques to feel more confident in what you need to do that will decrease your anxious response for sure! :) And  you can also learn how to work with your personality that may not like the attention. You may find that \"talking\" to others through the internet is more comfortable and you are great at it, or that you love one on one talking but aren't really made for group talking. There is a place in this world for you either way! Public speaking skills can be practiced in speech class, or toastmaster group, they will give you practice in a safe environment where the cool kids or cutest boy aren't ready to laugh at you.  What topics are you interested in and what groups can you do a little speaking up? Maybe in your small group at church try and raise you hand to share your opinion, or maybe your Girl Scout troop? Look around for a peer and one adult who you like to hear speak out, ask them to share with you 2 things that help them feel comfortable speaking in public. Check out some Ted Talks and see how they share in groups. Social anxiety is a difficult concern and picking apart what is your awesome personality and what needs skill building and mindfulness/anxiety  help are important steps. Good luck!",
         "Yes, you can get over social anxiety with the right support. It’s important to talk to someone you trust, like a teacher, counselor, or family member, about how you feel. Writing down your thoughts in a diary or letter can also help you express yourself before seeking further help."
        ],
        [
         "39",
         "I've been bulimic for about 6 years now. I'm in my early 20s. I am about to start back to school to become an RN, and I really need to get better once and for all.    I lose control of myself and become angry and anxious and just eat and purge. Over and over. Can someone please point me in the right direction for help?",
         "Eating disorders usually result from a sense of insecurity about who the person is, whether they are good enough compared with anyone else, and whether the way they person lives is effective.If you have a style you're already happy with to reflect on these sorts of topics, keep following your own logic with the aim to free yourself, which usually takes place gradually, from these sort of self-doubts.The other approach would be to find an unperson or an online discussion group where you'd be able to offer and receive the support from other people who live with a similar problem.Good luck in your studies!",
         "It’s great that you’re taking steps to prioritize your health while pursuing your goals. To get help for bulimia, consider reaching out to a local mental health nurse or counselor who can provide emotional support and guidance. Additionally, Cognitive Behavioral Therapy (CBT) has been shown to be effective in managing eating disorders and could be a valuable resource for you."
        ],
        [
         "40",
         "I've gone to a couple therapy sessions so far and still everytime I walk in I get nervous and shaky. Is this normal? Should I still be feeling like this?",
         "It is absolutely a typical response.  Many of my clients are nervous the first couple of times we meet.  This is essentially a stranger with whom you are sharing your feelings.",
         "It’s completely normal to feel nervous and shaky when starting therapy—it’s a new and vulnerable experience. Over time, these feelings may lessen as you become more comfortable. If it persists, consider sharing these feelings with your therapist so they can help you manage them effectively."
        ],
        [
         "41",
         "I can't even smile or fake one. I can't feel happiness about anything and I can't show love towards another person not even my girlfriend. I hate myself sometimes. All I see is ugly.\n   I can't get over the loss of a loved one and I'm not close to my family. What can I do?",
         "Trust and believe your own feelings.Emotions are real and reflect how someone feels about a situation.Since you're sad about losing a loved one, be patient w your feelings about this.  Basically, be guided by how you feel and eventually you will feel different emotions which I hope will be happier ones.",
         "I’m so sorry you’re feeling this way—it sounds like you’re carrying a lot of pain and grief. It’s important to reach out to someone you trust, like a friend, teacher, or counselor, to share how you’re feeling. You might also find it helpful to explore self-help resources or apps designed to support mental well-being. Remember, you’re not alone, and seeking help is a brave step toward healing."
        ],
        [
         "42",
         "My mother has Alzheimer's and she has become so nasty and mean to everyone and she always asks for unrealistic, silly or meaningless items. I get so frustrated and angry, but then I feel guilty because I know it probably isn’t her fault. How can I cope with feeling like this?",
         "From your initial description, I would say that your mother is \"Maloriented\". In this stage of Alzheimer's individuals tend to be blaming and difficult to deal with. They may often hide or throw things away and then blame family members for this. In addition, if they are incontinent, they may blame a leaky roof or something else when they are wet. You are correct that this is not her fault, but often for family members this does not make it any easier for you to cope. I strongly suggest that you learn communication strategies that will help you to communicate with your mother in a way that lets her work through the difficulties associated with the disease. I always suggest Validation techniques to family members.In addition, you need to give yourself some kind attention and take time out from your circumstances as needed. You need to be able to center yourself and come to acceptance that this is your mother's illness that is the problem, not her and certainly not you.",
         "It’s completely normal to feel frustrated and guilty in this situation—caring for someone with Alzheimer’s can be emotionally challenging. Try talking to someone you trust, like a friend, teacher, or counselor, to express your feelings and gain support. Writing down your thoughts in a diary or using self-help tools can also help you process your emotions and feel more in control."
        ],
        [
         "43",
         "I want a secure relationship with someone that wants to be with me and who will actually put effort into it.\n I seem to gravitate toward unavailable men and those that want intimacy and no relationship. I let men dictate and control me because they accuse me of being controlling. I let men emotionally abuse me and I am at their beck and call.\n I am not comfortable being alone or doing anything by myself. I feel I need the security of someone being around just to survive. I know what I'm doing wrong and I do it anyway just hoping things will change. How do I stop this behavior and thought process?",
         "Good for you on your keen awareness of your difficulties and your willingness to change!The type of change you'd like to achieve is possible, and since a change in self-confidence and self-love is deep rooted, this comes about gradually and slowly.Keep understanding yourself during your moments of doubt and anxiety.  Its fine to feel terrible and certainly better to know you feel insecure than to act upon the insecurity by being with men who take advantage of you.Everyone needs to feel loved and recognized.Until you attract a partner who will love and appreciate you, develop relationships with co-workers and classmates, neighbors, so that you have some quality of giving and being given by someone.It is a way to nurture yourself and another person until your strength and self-belief grow bigger.",
         "To stop this behavior and thought process, it’s important to seek support from trusted individuals like friends, family, or a counsellor who can help you build self-confidence and establish healthy boundaries. Focus on nurturing self-love and learning to be comfortable with being alone, as this will empower you to seek relationships that are balanced and respectful. Consider therapy to address patterns of emotional abuse and to develop a stronger sense of self-worth."
        ],
        [
         "44",
         "I was with my friends fishing by a pond. I found a frog and stabbed it with my friend's knife. I'm not sure why I did it. My friends saw me do it it and were shocked and got really mad at me.\n\nNow if someone brings it up I get really upset and panicked. I don't know why I feel like this. Does this mean there is something wrong with me?",
         "The good news is your awareness that being violent to animals feels out of character for you.   I'm glad you have awareness and I'm glad you are not at ease with killing frogs.Fairly likely that you were acting out aggressively toward the frog, feelings of being on the receiving side of similar type of violence.Basically, you did unto the frog what someone has or to you, feels like, has been done to you.Use your surprising finding of how strong your anger and most likely inward pain.   Reflect on your closest relationships and how these people treat you.   It is possible you feel more hurt by someone who is close to you than you ever realized.Stabbing innocent frogs is wrong.  It is understandable as a way to show you how much inner pain you probably have.It is also wrong that someone close to you hurt you.The direction to go is to recognize your pain and then decide how to go about changing what is possible on your side of that or those relationship(s).",
         "It sounds like you’re feeling a lot of guilt and confusion about what happened, which is understandable. It’s important to talk to someone you trust about these feelings so you can process them and get support. If you’re worried there’s something wrong, consider reaching out to a counselor or a helpline like Childline to explore these emotions further."
        ],
        [
         "45",
         "I’m a man, and I’m soon to be married. I have been messing around with other men on the side. It started as a once in a while thing, but it’s been happening a lot. I don't know what to do.",
         "Hello, and thank you for your question. When faced with these kinds of difficult challenges, I usually encourage people to look to their values for help in determining what their behavior should be. Indeed, it is usually when our behaviors conflict with our values that we don't feel very content with our lives. Perhaps you can take some time to think through a couple of these questions: What kind of person do I want to be deep in my heart? What kind of character do I want to have when in public and in my private world when nobody is watching? How would I want others to describe me? Let's say that you want others to see you as being authentic, and YOU also value authenticity as something you want to live by. You may feel like this value is currently at odds with the behaviors you are engaging in right now. That you are not being the person that you really are deep in your heart. This is not an unusual struggle when it comes to sexual behavior and sexual orientation. So please, try not to feel alone. We all know quite well how unacceptable it may be to be seen as gay, lesbian, bisexual, etc. And I am not just talking about being unaccepted by others, but a person may have a VERY hard time accepting themselves. Thinking about your values and living a life based on them can bring a lot of freedom, but I won't lie, it can also bring a lot of pain at the same time. For example, someone with the value of living authentically may decide they have to tell others who they are and what they stand for, even if that means people may disapprove. That may cause a lot of pain, but it may also come with a sense of freedom to live a life based on honesty and authenticity. It may be helpful to find a counselor who is trained in affirmative therapy, which is recommended for people who are navigating their sexual behaviors and figuring out what is right for them. I would also sit down and think through some of the questions above and consider what your values are... both as an individual and as someone's fiancé.Above all, I wish you well in this journey. Robin J. Landwehr, DBH, LPC, NCC",
         "It sounds like you're dealing with a complex situation that’s causing a lot of stress. It’s important to be honest with yourself and your partner about your feelings and actions moving forward. Consider reaching out to a trusted friend, counselor, or support group to help you navigate this situation and make decisions that feel right for you."
        ],
        [
         "46",
         "I have so many issues to address. I have a history of sexual abuse, I’m a breast cancer survivor and I am a lifetime insomniac.    I have a long history of depression and I’m beginning to have anxiety. I have low self esteem but I’ve been happily married for almost 35 years.\n   I’ve never had counseling about any of this. Do I have too many issues to address in counseling?",
         "Absolutely not.  I strongly recommending working on one issue/need at a time.  In therapy you will set smart goals and objectives that will help you reach your goals.  I see you as a survivor and not a victim.  Best wishes to you.",
         "No, you don't have too many issues to address in counseling. A skilled counselor can help you work through all these concerns in a supportive and structured way, addressing each issue at a pace that feels comfortable for you. It’s never too late to seek help, and counseling can provide valuable tools and insights to improve your well-being."
        ],
        [
         "47",
         "I have three siblings. My mom loves them and not me. She’s always yelling at me, but when it comes to my siblings, she talks to them. I’m always crying in my room.",
         "Have you ever tried talking with her about this when she's not angry? While I hear you saying that it feels like she doesn't love you, there could be a lot of other pieces to this. Have you ever told her about how much she means to you (when she's not angry)?",
         "It sounds like you're feeling very hurt and isolated, and that’s really tough. It might help to talk to someone you trust, like a teacher, friend, or counselor, who can listen and support you. You could also consider using resources or apps designed for young carers to help manage your emotions and well-being."
        ],
        [
         "48",
         "I am in my early 20s and I still live with my parents because I can't afford to live alone.\n   My mother says that if I live under her roof I have to follow her rules. She is trying to control my life. What should I do?",
         "That is a really tough situation that a lot of young people are experiencing right now. The first thing to under is that you can’t change who your parents are and cannot change their behavior. The thing to keep in mind is that you can control your responses and actions.  You may need to keep living at home with them for the next few months or years and the best way to do this is to have a plan. The second thing is to keep in mind that their controlling behavior is most likely not about based your behavior. Controlling parents are often driven by their concept of what will keep their children safe and happy. Unfortunately this is not always accurate but keep in mind it is not a personal attack.  There are ways you can deal with controlling parents – and most of them require creating a plan of action.Examples of action plans:Decide in advance how you’ll calmly and rationally respond to your parents when you feel they’re trying to control youArrange to phone a friend or trusted adult when you feel like you’re losing controlTalk in person to an adult you trust. There aren’t any quick tips on how to deal with parents who want to control you; you need to find strategies that are geared to your specific family situation. Get specific coping tips from books about family dynamics, such as:Toxic Parents: Overcoming Their Hurtful Legacy and Reclaiming Your Life by Susan ForwardCutting Loose: An Adult's Guide to Coming to Terms with Your Parents by Howard HalpernA counselor can be a good resource and provide support and guidance about issues addressing normal growth and development during periods of transition.",
         "It sounds like you're feeling controlled and want more independence while navigating living at home. Consider talking to a trusted friend, family member, or support worker who can help you express your feelings and explore options for balancing your needs with your mother's expectations. Additionally, look into young carer support services that can guide you in planning for your future and managing this transition."
        ],
        [
         "49",
         "I keep getting into relationships with men that are in bad situations. I take them on and help them and do all I can and the relationship still fails. How do I learn to not get in relationships with men in bad situations? I see someone in need of help, I jump in. And it is getting me nowhere. I am alone sad and frustrated.",
         "Sounds like you already see what's amiss. You're looking for fix-er-uppers! When you meet these men they need you. And you're filled by fixing them.  And when they are fixed, what do they have to give you? What's your need in relationship? What if you found someone who didn't need fixing? ",
         "To learn not to get into relationships with men in bad situations, start by reflecting on your patterns and consider seeking support from trusted friends, family, or a counselor who can help you set boundaries and understand your tendency to rescue others. Writing in a journal can also help you process your feelings and make sense of your experiences. Additionally, joining a support group or online community where you can connect with others in similar situations might provide valuable insights and encouragement."
        ]
       ],
       "shape": {
        "columns": 3,
        "rows": 200
       }
      },
      "text/html": [
       "<div>\n",
       "<style scoped>\n",
       "    .dataframe tbody tr th:only-of-type {\n",
       "        vertical-align: middle;\n",
       "    }\n",
       "\n",
       "    .dataframe tbody tr th {\n",
       "        vertical-align: top;\n",
       "    }\n",
       "\n",
       "    .dataframe thead th {\n",
       "        text-align: right;\n",
       "    }\n",
       "</style>\n",
       "<table border=\"1\" class=\"dataframe\">\n",
       "  <thead>\n",
       "    <tr style=\"text-align: right;\">\n",
       "      <th></th>\n",
       "      <th>Context</th>\n",
       "      <th>Response</th>\n",
       "      <th>Answer</th>\n",
       "    </tr>\n",
       "  </thead>\n",
       "  <tbody>\n",
       "    <tr>\n",
       "      <th>0</th>\n",
       "      <td>We weren't long distance until he joined the m...</td>\n",
       "      <td>You're wise to be aware of possible changes to...</td>\n",
       "      <td>Maintaining a long-distance relationship while...</td>\n",
       "    </tr>\n",
       "    <tr>\n",
       "      <th>1</th>\n",
       "      <td>I have no real friends. I have a girlfriend wh...</td>\n",
       "      <td>Having time all to yourself may be necessary s...</td>\n",
       "      <td>I’m sorry you’re feeling so alone right now. T...</td>\n",
       "    </tr>\n",
       "    <tr>\n",
       "      <th>2</th>\n",
       "      <td>I feel like my time is going too fast</td>\n",
       "      <td>Thank you for reaching out! That is a great qu...</td>\n",
       "      <td>Feeling like time is going too fast can be ove...</td>\n",
       "    </tr>\n",
       "    <tr>\n",
       "      <th>3</th>\n",
       "      <td>He wants to wear makeup and heels. He even tuc...</td>\n",
       "      <td>It sounds like you may be asking two different...</td>\n",
       "      <td>It’s important to prioritize your comfort and ...</td>\n",
       "    </tr>\n",
       "    <tr>\n",
       "      <th>4</th>\n",
       "      <td>I am a really shy person. I'm currently in a g...</td>\n",
       "      <td>First of all, way to go in stretching yourself...</td>\n",
       "      <td>To build confidence in presentations, start by...</td>\n",
       "    </tr>\n",
       "    <tr>\n",
       "      <th>...</th>\n",
       "      <td>...</td>\n",
       "      <td>...</td>\n",
       "      <td>...</td>\n",
       "    </tr>\n",
       "    <tr>\n",
       "      <th>195</th>\n",
       "      <td>Maybe this is a stupid question, but I sometim...</td>\n",
       "      <td>It is not a stupid question, it is very basi...</td>\n",
       "      <td>It’s not a stupid question, and feeling unsure...</td>\n",
       "    </tr>\n",
       "    <tr>\n",
       "      <th>196</th>\n",
       "      <td>I feel that I need to end my present relations...</td>\n",
       "      <td>It sounds like you have some insight into the ...</td>\n",
       "      <td>It sounds like you’re struggling with a diffic...</td>\n",
       "    </tr>\n",
       "    <tr>\n",
       "      <th>197</th>\n",
       "      <td>How do I decide if I should end my relationshi...</td>\n",
       "      <td>That's a loaded question.  Typically, if we ar...</td>\n",
       "      <td>Deciding whether to end a relationship is a de...</td>\n",
       "    </tr>\n",
       "    <tr>\n",
       "      <th>198</th>\n",
       "      <td>I don't know what to say. I have never really ...</td>\n",
       "      <td>The older I get, the more I believe that our r...</td>\n",
       "      <td>It’s okay to feel unsure about who you are, es...</td>\n",
       "    </tr>\n",
       "    <tr>\n",
       "      <th>199</th>\n",
       "      <td>Whenever I run into a situation that makes me ...</td>\n",
       "      <td>Congratulations on making your way to Step One...</td>\n",
       "      <td>It’s understandable to feel overwhelmed and re...</td>\n",
       "    </tr>\n",
       "  </tbody>\n",
       "</table>\n",
       "<p>200 rows × 3 columns</p>\n",
       "</div>"
      ],
      "text/plain": [
       "                                               Context  \\\n",
       "0    We weren't long distance until he joined the m...   \n",
       "1    I have no real friends. I have a girlfriend wh...   \n",
       "2                I feel like my time is going too fast   \n",
       "3    He wants to wear makeup and heels. He even tuc...   \n",
       "4    I am a really shy person. I'm currently in a g...   \n",
       "..                                                 ...   \n",
       "195  Maybe this is a stupid question, but I sometim...   \n",
       "196  I feel that I need to end my present relations...   \n",
       "197  How do I decide if I should end my relationshi...   \n",
       "198  I don't know what to say. I have never really ...   \n",
       "199  Whenever I run into a situation that makes me ...   \n",
       "\n",
       "                                              Response  \\\n",
       "0    You're wise to be aware of possible changes to...   \n",
       "1    Having time all to yourself may be necessary s...   \n",
       "2    Thank you for reaching out! That is a great qu...   \n",
       "3    It sounds like you may be asking two different...   \n",
       "4    First of all, way to go in stretching yourself...   \n",
       "..                                                 ...   \n",
       "195    It is not a stupid question, it is very basi...   \n",
       "196  It sounds like you have some insight into the ...   \n",
       "197  That's a loaded question.  Typically, if we ar...   \n",
       "198  The older I get, the more I believe that our r...   \n",
       "199  Congratulations on making your way to Step One...   \n",
       "\n",
       "                                                Answer  \n",
       "0    Maintaining a long-distance relationship while...  \n",
       "1    I’m sorry you’re feeling so alone right now. T...  \n",
       "2    Feeling like time is going too fast can be ove...  \n",
       "3    It’s important to prioritize your comfort and ...  \n",
       "4    To build confidence in presentations, start by...  \n",
       "..                                                 ...  \n",
       "195  It’s not a stupid question, and feeling unsure...  \n",
       "196  It sounds like you’re struggling with a diffic...  \n",
       "197  Deciding whether to end a relationship is a de...  \n",
       "198  It’s okay to feel unsure about who you are, es...  \n",
       "199  It’s understandable to feel overwhelmed and re...  \n",
       "\n",
       "[200 rows x 3 columns]"
      ]
     },
     "execution_count": 91,
     "metadata": {},
     "output_type": "execute_result"
    }
   ],
   "source": [
    "df"
   ]
  }
 ],
 "metadata": {
  "kernelspec": {
   "display_name": "Python 3",
   "language": "python",
   "name": "python3"
  },
  "language_info": {
   "codemirror_mode": {
    "name": "ipython",
    "version": 3
   },
   "file_extension": ".py",
   "mimetype": "text/x-python",
   "name": "python",
   "nbconvert_exporter": "python",
   "pygments_lexer": "ipython3",
   "version": "3.12.3"
  }
 },
 "nbformat": 4,
 "nbformat_minor": 5
}
